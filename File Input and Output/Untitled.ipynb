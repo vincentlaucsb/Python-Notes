{
 "cells": [
  {
   "cell_type": "code",
   "execution_count": 1,
   "metadata": {
    "collapsed": false
   },
   "outputs": [
    {
     "name": "stdout",
     "output_type": "stream",
     "text": [
      "Enter a number to select an option:\n",
      "[1] Write powers of 2 to pow2.txt\n",
      "[2] Read pow2.txt\n",
      "[3] Clear pow2.txt\n",
      "\n",
      "Or enter nothing to quit.\n",
      "1\n",
      "Hit enter to store the next power of two. Enter 'quit' to stop.\n",
      "\n",
      "Hit enter to store the next power of two. Enter 'quit' to stop.\n",
      "\n",
      "Hit enter to store the next power of two. Enter 'quit' to stop.\n",
      "\n",
      "Hit enter to store the next power of two. Enter 'quit' to stop.\n",
      "\n",
      "Hit enter to store the next power of two. Enter 'quit' to stop.\n",
      "\n",
      "Hit enter to store the next power of two. Enter 'quit' to stop.\n",
      "\n",
      "Hit enter to store the next power of two. Enter 'quit' to stop.\n",
      "\n",
      "Hit enter to store the next power of two. Enter 'quit' to stop.\n",
      "quit\n",
      "Enter a number to select an option:\n",
      "[1] Write powers of 2 to pow2.txt\n",
      "[2] Read pow2.txt\n",
      "[3] Clear pow2.txt\n",
      "\n",
      "Or enter nothing to quit.\n",
      "\n"
     ]
    }
   ],
   "source": [
    "FILE = 'pow2.txt'\n",
    "\n",
    "def write():\n",
    "    pow = 0\n",
    "    with open(FILE, 'w') as file:\n",
    "        while True:\n",
    "            user_input = input(\"Hit enter to store the next power of two. Enter 'quit' to stop.\\n\")\n",
    "            if (user_input == 'quit'):\n",
    "                file.close()\n",
    "                break\n",
    "            else:\n",
    "                # Must write strings, not integers\n",
    "                # Also use the newline character\n",
    "                file.write(str(2**pow) + '\\n')\n",
    "                pow += 1\n",
    "                \n",
    "def read():\n",
    "    with open(FILE, 'r') as file:\n",
    "        for line in file.readlines():\n",
    "            print(line.replace('\\n',''))\n",
    "            \n",
    "def clear():\n",
    "    open(FILE, 'w').close()\n",
    "    \n",
    "while True:\n",
    "    print(\"Enter a number to select an option:\",\n",
    "          \"[1] Write powers of 2 to {0}\".format(FILE),\n",
    "          \"[2] Read {0}\".format(FILE),\n",
    "          \"[3] Clear {0}\".format(FILE),\n",
    "          \"\",\n",
    "          sep=\"\\n\")\n",
    "    user_option = input(\"Or enter nothing to quit.\\n\")\n",
    "    \n",
    "    if user_option == \"1\":\n",
    "        write()\n",
    "    elif user_option == \"2\":\n",
    "        read()\n",
    "    elif user_option == \"3\":\n",
    "        clear()\n",
    "    else:\n",
    "        break"
   ]
  }
 ],
 "metadata": {
  "kernelspec": {
   "display_name": "Python 3",
   "language": "python",
   "name": "python3"
  },
  "language_info": {
   "codemirror_mode": {
    "name": "ipython",
    "version": 3
   },
   "file_extension": ".py",
   "mimetype": "text/x-python",
   "name": "python",
   "nbconvert_exporter": "python",
   "pygments_lexer": "ipython3",
   "version": "3.6.0"
  }
 },
 "nbformat": 4,
 "nbformat_minor": 2
}
