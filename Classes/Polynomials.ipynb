{
 "cells": [
  {
   "cell_type": "markdown",
   "metadata": {},
   "source": [
    "# Polynomials\n",
    "Object-oriented methods are useful for presenting many items, including polynomial functions.\n",
    "\n",
    "## Goal\n",
    "We want to represent polynomials in Python and implement some basic operations between polynomials, such as addition, subtraction, multiplication, and division."
   ]
  },
  {
   "cell_type": "markdown",
   "metadata": {},
   "source": [
    "## How do we want to represent polynomials?\n",
    "Suppose we have a polynomial of the form:\n",
    "\n",
    "$a_0 + a_1x + a_2x^2 + ... a_nx^n$\n",
    "\n",
    "where $a_0, a_1, ..., a_n$ are the coefficients of the polynomial. For simplicity, we will only consider real polynomials.\n",
    "\n",
    "### Subclassing Lists\n",
    "We can create an entirely new object from scratch to represent polynomials, or we can subclass an existing Python container. For one, lists appear to be a reasonable way to represent polynomials if we store the nth term in the nth place in the list. For example, \n",
    "$x^2 + 3x + 10$ can be represented using the list `[10, 3, 1]`"
   ]
  },
  {
   "cell_type": "code",
   "execution_count": 1,
   "metadata": {
    "collapsed": true
   },
   "outputs": [],
   "source": [
    "class Polynomial(list):\n",
    "    def __init__(self, *args):\n",
    "        # Put arguments into a list, and pass them to list's __init__()\n",
    "        super(Polynomial, self).__init__(list(args))"
   ]
  },
  {
   "cell_type": "markdown",
   "metadata": {},
   "source": [
    "Calling the `super()` function under `__init__` gives our `Polynomial` class the same properties as its parent class `list`. Furthermore, the `*args` argument allows us to take in an arbitrary number of arguments during initalization. In our case, these arguments will be the coefficients of our polynomial. We then pass these arguments to the parent `list` class's `__init__` function, which creates our list.\n",
    "\n",
    "As a result, we can initalize polynomials like this:\n",
    "`a = Polynomial(`$a_0$, $a_1$, $a_2$, ..., $a_n$`)`\n"
   ]
  },
  {
   "cell_type": "code",
   "execution_count": 2,
   "metadata": {
    "collapsed": false
   },
   "outputs": [
    {
     "data": {
      "text/plain": [
       "[1, 2, 3]"
      ]
     },
     "execution_count": 2,
     "metadata": {},
     "output_type": "execute_result"
    }
   ],
   "source": [
    "x = Polynomial(1, 2, 3)\n",
    "x"
   ]
  },
  {
   "cell_type": "markdown",
   "metadata": {},
   "source": [
    "## Making Polynomials Pretty\n",
    "Of course, we are not accustomed to seeing polynomials like `[1, 2, 3]`. Rather, we prefer something like `1 + 2x + 3x^2`. We can make this happen by overriding the list's default `__repr__()` method, which controls how our objects are represented. The output of `__repr__()` for any object should be a string."
   ]
  },
  {
   "cell_type": "code",
   "execution_count": 3,
   "metadata": {
    "collapsed": true
   },
   "outputs": [],
   "source": [
    "class Polynomial(list):\n",
    "    def __init__(self, *args):\n",
    "        # Put arguments into a list, and pass them to list's __init__()\n",
    "        super(Polynomial, self).__init__(list(args))\n",
    "        \n",
    "    def __repr__(self):\n",
    "        text = \"\"\n",
    "        \n",
    "        pow = 0 # Counter to keep track of what power we are on\n",
    "        for term in self:\n",
    "            if pow == 0:\n",
    "                # For the constant term, don't print out x^0\n",
    "                text += str(term)\n",
    "            else:\n",
    "                text += \"{0}x^{1}\".format(term, pow)\n",
    "            \n",
    "            # Add plus sign after term if it's not the last term\n",
    "            if pow + 1 < len(self):\n",
    "                pow += 1\n",
    "                text += \" + \"\n",
    "            \n",
    "        return text"
   ]
  },
  {
   "cell_type": "code",
   "execution_count": 4,
   "metadata": {
    "collapsed": false
   },
   "outputs": [
    {
     "data": {
      "text/plain": [
       "1 + 2x^1 + 3x^2"
      ]
     },
     "execution_count": 4,
     "metadata": {},
     "output_type": "execute_result"
    }
   ],
   "source": [
    "x = Polynomial(1, 2, 3)\n",
    "x"
   ]
  },
  {
   "cell_type": "markdown",
   "metadata": {},
   "source": [
    "## Implementing Addition\n",
    "Now we will move on to implementing addition between polynomials."
   ]
  },
  {
   "cell_type": "code",
   "execution_count": 5,
   "metadata": {
    "collapsed": false
   },
   "outputs": [
    {
     "data": {
      "text/plain": [
       "[1, 2, 3, 1, 2, 3]"
      ]
     },
     "execution_count": 5,
     "metadata": {},
     "output_type": "execute_result"
    }
   ],
   "source": [
    "x + x"
   ]
  },
  {
   "cell_type": "markdown",
   "metadata": {},
   "source": [
    "### What happened above\n",
    "As mentioned earlier, our `Polynomial` object inherits all of `list`'s methods. The addition operator for lists simply joins the lists together, but this is not what we want to happen here. So, we will override the `__add__()` method which controls how the `+` operator functions.\n",
    "\n",
    "The algorithm for this is straightfoward--add up the polynomials term by term, which we will do by iterating through the terms of the polynomials. For example, on the first loop we will add the first terms together, on the second loop we will add the second terms together, and so on. As you can see, if we have a polynomial of degree 10 and another polynomial of, say, degree 3, we will need to loop through 10 times to fully add up the terms this way. In general, the number of loops we need to go through is equal to the length of the longest polynomial.\n",
    "\n",
    "Now, you might see a problem with this solution, but we will not worry about it yet."
   ]
  },
  {
   "cell_type": "code",
   "execution_count": 6,
   "metadata": {
    "collapsed": false
   },
   "outputs": [],
   "source": [
    "class Polynomial(list):\n",
    "    def __init__(self, *args):\n",
    "        # Put arguments into a list, and pass them to list's __init__()\n",
    "        super(Polynomial, self).__init__(list(args))\n",
    "        \n",
    "    def __repr__(self):\n",
    "        text = \"\"\n",
    "        \n",
    "        pow = 0 # Counter to keep track of what power we are on\n",
    "        for term in self:\n",
    "            if pow == 0:\n",
    "                # For the constant term, don't print out x^0\n",
    "                text += str(term)\n",
    "            else:\n",
    "                text += \"{0}x^{1}\".format(term, pow)\n",
    "            \n",
    "            # Add plus sign after term if it's not the last term\n",
    "            if pow + 1 < len(self):\n",
    "                pow += 1\n",
    "                text += \" + \"\n",
    "            \n",
    "        return text\n",
    "    \n",
    "    def __add__(self, other):\n",
    "        # The result of __add__() should be a new polynomial object\n",
    "        new_poly = Polynomial()\n",
    "        \n",
    "        # Keep track of what term we are on\n",
    "        i = 0\n",
    "        \n",
    "        # The number of times we need to loop is the length of the longest polynomial\n",
    "        while i < max(len(self), len(other)):\n",
    "            # Add polynomials term by term\n",
    "            new_poly.append(self[i] + other[i])\n",
    "            i += 1\n",
    "\n",
    "        return new_poly"
   ]
  },
  {
   "cell_type": "code",
   "execution_count": 7,
   "metadata": {
    "collapsed": false
   },
   "outputs": [
    {
     "data": {
      "text/plain": [
       "2 + 4x^1 + 6x^2"
      ]
     },
     "execution_count": 7,
     "metadata": {},
     "output_type": "execute_result"
    }
   ],
   "source": [
    "x = Polynomial(1, 2, 3)\n",
    "x + x"
   ]
  },
  {
   "cell_type": "markdown",
   "metadata": {},
   "source": [
    "### The Problem\n",
    "Now our `__add__()` method works all fine and dandy for polynomials of the same length, but it does not work for polynomials of different lengths."
   ]
  },
  {
   "cell_type": "code",
   "execution_count": 8,
   "metadata": {
    "collapsed": false
   },
   "outputs": [
    {
     "ename": "IndexError",
     "evalue": "list index out of range",
     "output_type": "error",
     "traceback": [
      "\u001b[0;31m---------------------------------------------------------------------------\u001b[0m",
      "\u001b[0;31mIndexError\u001b[0m                                Traceback (most recent call last)",
      "\u001b[0;32m<ipython-input-8-ad805ed49ba0>\u001b[0m in \u001b[0;36m<module>\u001b[0;34m()\u001b[0m\n\u001b[1;32m      1\u001b[0m \u001b[0mx\u001b[0m \u001b[1;33m=\u001b[0m \u001b[0mPolynomial\u001b[0m\u001b[1;33m(\u001b[0m\u001b[1;36m1\u001b[0m\u001b[1;33m,\u001b[0m \u001b[1;36m2\u001b[0m\u001b[1;33m,\u001b[0m \u001b[1;36m3\u001b[0m\u001b[1;33m)\u001b[0m\u001b[1;33m\u001b[0m\u001b[0m\n\u001b[1;32m      2\u001b[0m \u001b[0my\u001b[0m \u001b[1;33m=\u001b[0m \u001b[0mPolynomial\u001b[0m\u001b[1;33m(\u001b[0m\u001b[1;36m1\u001b[0m\u001b[1;33m,\u001b[0m \u001b[1;36m1\u001b[0m\u001b[1;33m,\u001b[0m \u001b[1;36m1\u001b[0m\u001b[1;33m,\u001b[0m \u001b[1;36m1\u001b[0m\u001b[1;33m)\u001b[0m\u001b[1;33m\u001b[0m\u001b[0m\n\u001b[0;32m----> 3\u001b[0;31m \u001b[0mx\u001b[0m \u001b[1;33m+\u001b[0m \u001b[0my\u001b[0m\u001b[1;33m\u001b[0m\u001b[0m\n\u001b[0m",
      "\u001b[0;32m<ipython-input-6-01a16e14f584>\u001b[0m in \u001b[0;36m__add__\u001b[0;34m(self, other)\u001b[0m\n\u001b[1;32m     32\u001b[0m         \u001b[1;32mwhile\u001b[0m \u001b[0mi\u001b[0m \u001b[1;33m<\u001b[0m \u001b[0mmax\u001b[0m\u001b[1;33m(\u001b[0m\u001b[0mlen\u001b[0m\u001b[1;33m(\u001b[0m\u001b[0mself\u001b[0m\u001b[1;33m)\u001b[0m\u001b[1;33m,\u001b[0m \u001b[0mlen\u001b[0m\u001b[1;33m(\u001b[0m\u001b[0mother\u001b[0m\u001b[1;33m)\u001b[0m\u001b[1;33m)\u001b[0m\u001b[1;33m:\u001b[0m\u001b[1;33m\u001b[0m\u001b[0m\n\u001b[1;32m     33\u001b[0m             \u001b[1;31m# Add polynomials term by term\u001b[0m\u001b[1;33m\u001b[0m\u001b[1;33m\u001b[0m\u001b[0m\n\u001b[0;32m---> 34\u001b[0;31m             \u001b[0mnew_poly\u001b[0m\u001b[1;33m.\u001b[0m\u001b[0mappend\u001b[0m\u001b[1;33m(\u001b[0m\u001b[0mself\u001b[0m\u001b[1;33m[\u001b[0m\u001b[0mi\u001b[0m\u001b[1;33m]\u001b[0m \u001b[1;33m+\u001b[0m \u001b[0mother\u001b[0m\u001b[1;33m[\u001b[0m\u001b[0mi\u001b[0m\u001b[1;33m]\u001b[0m\u001b[1;33m)\u001b[0m\u001b[1;33m\u001b[0m\u001b[0m\n\u001b[0m\u001b[1;32m     35\u001b[0m             \u001b[0mi\u001b[0m \u001b[1;33m+=\u001b[0m \u001b[1;36m1\u001b[0m\u001b[1;33m\u001b[0m\u001b[0m\n\u001b[1;32m     36\u001b[0m \u001b[1;33m\u001b[0m\u001b[0m\n",
      "\u001b[0;31mIndexError\u001b[0m: list index out of range"
     ]
    }
   ],
   "source": [
    "x = Polynomial(1, 2, 3)\n",
    "y = Polynomial(1, 1, 1, 1)\n",
    "x + y"
   ]
  },
  {
   "cell_type": "markdown",
   "metadata": {},
   "source": [
    "As seen above, our `__add__()` method loops through 4 times to add up all the terms. However, on the fourth iteration, it tries to access the non-existent fourth term of the first polynomial, causing an `IndexError`."
   ]
  },
  {
   "cell_type": "markdown",
   "metadata": {
    "collapsed": false
   },
   "source": [
    "### The Solution\n",
    "Again, the solution to this problem is to fall back on how we were taught to add up polynomials in algebra class. Implicitly, we assume any missing terms are just zero. We can implement this behavior in Python by overriding the `__getitem__()` method, which controls how items are retrieved when accessed by a key (in this case, a numeric index)."
   ]
  },
  {
   "cell_type": "code",
   "execution_count": 9,
   "metadata": {
    "collapsed": false
   },
   "outputs": [],
   "source": [
    "class Polynomial(list):\n",
    "    def __init__(self, *args):\n",
    "        # Put arguments into a list, and pass them to list's __init__()\n",
    "        super(Polynomial, self).__init__(list(args))\n",
    "        \n",
    "    def __repr__(self):\n",
    "        text = \"\"\n",
    "        \n",
    "        pow = 0 # Counter to keep track of what power we are on\n",
    "        for term in self:\n",
    "            if pow == 0:\n",
    "                # For the constant term, don't print out x^0\n",
    "                text += str(term)\n",
    "            else:\n",
    "                text += \"{0}x^{1}\".format(term, pow)\n",
    "            \n",
    "            # Add plus sign after term if it's not the last term\n",
    "            if pow + 1 < len(self):\n",
    "                pow += 1\n",
    "                text += \" + \"\n",
    "            \n",
    "        return text\n",
    "    \n",
    "    def __add__(self, other):\n",
    "        # The result of __add__() should be a new polynomial object\n",
    "        new_poly = Polynomial()\n",
    "        \n",
    "        # Keep track of what term we are on\n",
    "        i = 0\n",
    "        \n",
    "        # The number of times we need to loop is the length of the longest polynomial\n",
    "        while i < max(len(self), len(other)):\n",
    "            # Add polynomials term by term\n",
    "            new_poly.append(self[i] + other[i])\n",
    "            i += 1\n",
    "\n",
    "        return new_poly\n",
    "    \n",
    "    def __getitem__(self, key):\n",
    "        # The index being accessed exists --> return item as usual\n",
    "        if key < len(self):\n",
    "            return super(Polynomial, self).__getitem__(key)\n",
    "        \n",
    "        # The index being accessed is out of range --> return 0\n",
    "        else:\n",
    "            return 0"
   ]
  },
  {
   "cell_type": "markdown",
   "metadata": {},
   "source": [
    "#### Testing our solution"
   ]
  },
  {
   "cell_type": "code",
   "execution_count": 10,
   "metadata": {
    "collapsed": false
   },
   "outputs": [
    {
     "data": {
      "text/plain": [
       "2 + 3x^1 + 4x^2 + 1x^3"
      ]
     },
     "execution_count": 10,
     "metadata": {},
     "output_type": "execute_result"
    }
   ],
   "source": [
    "x = Polynomial(1, 2, 3)\n",
    "y = Polynomial(1, 1, 1, 1)\n",
    "x + y"
   ]
  },
  {
   "cell_type": "markdown",
   "metadata": {},
   "source": [
    "## Subtraction\n",
    "Now that we have implemented addition, we can implement subtraction. While we can implement `__sub__()` exactly like we implemented `__add__()`, we can craft a more concise, elegant solution by using `__add__()` in `__sub__()`. In order to subtract polynomials, all we have to do is flip the signs of the second polynomial, and add that to our first polynomial.\n",
    "\n",
    "### Flipping Signs\n",
    "By \"flipping signs\", I basically mean that whenever we have some polynomial defined like:\n",
    "`x = Polynomial(1, 1, 1)`,\n",
    "\n",
    "then we can flip the sign on each coefficient by simply typing `-x`.\n",
    "\n",
    "Not surprisingly, the `-` sign when used as a \"prefix\" for a variable is also a method--`__neg__()`--we can override."
   ]
  },
  {
   "cell_type": "code",
   "execution_count": 11,
   "metadata": {
    "collapsed": true
   },
   "outputs": [],
   "source": [
    "class Polynomial(list):\n",
    "    def __init__(self, *args):\n",
    "        # Put arguments into a list, and pass them to list's __init__()\n",
    "        super(Polynomial, self).__init__(list(args))\n",
    "        \n",
    "    def __repr__(self):\n",
    "        text = \"\"\n",
    "        \n",
    "        pow = 0 # Counter to keep track of what power we are on\n",
    "        for term in self:\n",
    "            if pow == 0:\n",
    "                # For the constant term, don't print out x^0\n",
    "                text += str(term)\n",
    "            else:\n",
    "                text += \"{0}x^{1}\".format(term, pow)\n",
    "            \n",
    "            # Add plus sign after term if it's not the last term\n",
    "            if pow + 1 < len(self):\n",
    "                pow += 1\n",
    "                text += \" + \"\n",
    "            \n",
    "        return text\n",
    "    \n",
    "    def __add__(self, other):\n",
    "        # The result of __add__() should be a new polynomial object\n",
    "        new_poly = Polynomial()\n",
    "        \n",
    "        # Keep track of what term we are on\n",
    "        i = 0\n",
    "        \n",
    "        # The number of times we need to loop is the length of the longest polynomial\n",
    "        while i < max(len(self), len(other)):\n",
    "            # Add polynomials term by term\n",
    "            new_poly.append(self[i] + other[i])\n",
    "            i += 1\n",
    "\n",
    "        return new_poly\n",
    "    \n",
    "    def __getitem__(self, key):\n",
    "        # The index being accessed exists --> return item as usual\n",
    "        if key < len(self):\n",
    "            return super(Polynomial, self).__getitem__(key)\n",
    "        \n",
    "        # The index being accessed is out of range --> return 0\n",
    "        else:\n",
    "            return 0\n",
    "    \n",
    "    def __neg__(self):\n",
    "        new_poly = Polynomial()\n",
    "        \n",
    "        for term in self:\n",
    "            new_poly.append(-term)\n",
    "        \n",
    "        return new_poly        \n",
    "    \n",
    "    def __sub__(self, other):\n",
    "        return self.__add__(-other)"
   ]
  },
  {
   "cell_type": "code",
   "execution_count": 12,
   "metadata": {
    "collapsed": false
   },
   "outputs": [
    {
     "data": {
      "text/plain": [
       "0 + 0x^1 + 0x^2 + -1x^3"
      ]
     },
     "execution_count": 12,
     "metadata": {},
     "output_type": "execute_result"
    }
   ],
   "source": [
    "x = Polynomial(1, 1, 1, 1)\n",
    "y = Polynomial(1, 1, 1, 2)\n",
    "x - y"
   ]
  },
  {
   "cell_type": "markdown",
   "metadata": {},
   "source": [
    "## Exercise\n",
    "Implementing polynomial multiplication and division has been left as an exercise for the reader.\n",
    "\n",
    "### Other Exercises\n",
    "1. Rewrite the `__repr__()` method so that zero terms don't appear, e.g. the last example simply outputs \"-1x^3\".\n",
    "2. Create a method, say `eval()`, that allows you to evaluate the polynomial at some number."
   ]
  }
 ],
 "metadata": {
  "kernelspec": {
   "display_name": "Python 3",
   "language": "python",
   "name": "python3"
  },
  "language_info": {
   "codemirror_mode": {
    "name": "ipython",
    "version": 3
   },
   "file_extension": ".py",
   "mimetype": "text/x-python",
   "name": "python",
   "nbconvert_exporter": "python",
   "pygments_lexer": "ipython3",
   "version": "3.6.0"
  }
 },
 "nbformat": 4,
 "nbformat_minor": 2
}
