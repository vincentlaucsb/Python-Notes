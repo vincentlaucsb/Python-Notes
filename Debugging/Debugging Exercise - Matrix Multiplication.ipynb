{
 "cells": [
  {
   "cell_type": "markdown",
   "metadata": {},
   "source": [
    "# Debugging Exercise: Matrix Multiplication\n",
    "\n",
    "## The Importance of Debugging Skills\n",
    "Almost everybody who uses a computer has encountered a bug. It might have been a rendering issue on a website, unexpected behavior in a video game, or a bug severe enough to crash an entire application or operating system. The ubiquity of software bugs indicates--what many have found out the hard way--that programming is hard to get right.\n",
    "\n",
    "As some may have discovered already, every programmer will get an ample amount of opportunities to debug software. Many beginning programmers are intimidated by error messages. However, the ability to push through errors and fix them is what makes one a more competent and confident programmer.\n",
    "\n",
    "## Topics Covered\n",
    "### `print()` debugging\n",
    "`print()` debugging is the act of trying to determine the source of a bug in a program by printing out the values of some variables and outputs. It is a primitive form of debugging that some programmers frown upon, but it is a useful tool that is also easy to learn. Once you understand `print()` debugging, you can move on to other more sophisticated methods such as\n",
    " 1. Logging\n",
    " 2. Using Python's debugger (PDB)\n",
    " \n",
    "### Reading error messages\n",
    "Another hint of what went wrong is precisely what Python tells you what went wrong. In addition to providing concise error messages which describe the most immediate cause of a program not working, Python also provides **tracebacks**. This is useful in the case of functions which call other functions which then call other functions and so on. By providing a history of these function calls, **tracebacks** help us diagnose software errors which might not be caused by the most immediate suspect.\n",
    "\n",
    "## This Exercise: Matrix Multiplication\n",
    "For this exercise, I decided to choose something that was relatively challenging to implement (and therefore debug). As a result, this exercise involves debugging a function that is intended to perform matrix multiplication. Now, there are actually several methods of multiplying matrices together. The algorithm implemented here is based on the one that most have learned in a basic linear algebra course. While not the fastest algorithm, it is the most widely known.\n",
    "\n",
    "In general, there is actually no point in implementing matrix multiplication in Python. The `numpy` package has its own implementation of matrices and along with a fast matrix multiplication algorithm. However, because matrix multiplication is relatively challenging and requries many things to go right at the same time, it is a good opportunity to practice debugging. Here, we can use the `numpy` package to check our work.\n",
    "\n",
    "### The Algorithm\n",
    "As was taught in school, to multiply two matrices together, we need to make sure they are of compatible dimensions. For a matrix with $m$ rows and $n$ columns, we can multiply it with another matrix with any number $p$ of columns but only $n$ rows. The resultant matrix then has $n$ rows and $p$ columns.\n",
    "\n",
    "To explicate this further, suppose the first matrix looks like:\n",
    "\n",
    "$\\begin{bmatrix}\n",
    "a_{11} & a_{12} & ... & a_{1m}\n",
    "\\end{bmatrix}\n",
    "$\n",
    "\n",
    "\n",
    "\n",
    "If you forgot how to matrix multiply, look up a few simple examples so you can follow along. Then, for any entry located at say, row $i$ and column $j$, its value is equal to the sum of each "
   ]
  },
  {
   "cell_type": "code",
   "execution_count": 87,
   "metadata": {
    "collapsed": true
   },
   "outputs": [],
   "source": [
    "import numpy as np"
   ]
  },
  {
   "cell_type": "code",
   "execution_count": 2,
   "metadata": {
    "collapsed": false
   },
   "outputs": [
    {
     "data": {
      "text/plain": [
       "[[1, 2, 3], [4, 5, 6], [7, 8, 9]]"
      ]
     },
     "execution_count": 2,
     "metadata": {},
     "output_type": "execute_result"
    }
   ],
   "source": [
    "matrix_1 = [[1, 2, 3], [4, 5, 6], [7, 8, 9]]\n",
    "matrix_1"
   ]
  },
  {
   "cell_type": "code",
   "execution_count": 3,
   "metadata": {
    "collapsed": false
   },
   "outputs": [
    {
     "data": {
      "text/plain": [
       "[7, 8, 9]"
      ]
     },
     "execution_count": 3,
     "metadata": {},
     "output_type": "execute_result"
    }
   ],
   "source": [
    "matrix_1[2]"
   ]
  },
  {
   "cell_type": "code",
   "execution_count": 50,
   "metadata": {
    "collapsed": false
   },
   "outputs": [
    {
     "ename": "TypeError",
     "evalue": "list indices must be integers or slices, not list",
     "output_type": "error",
     "traceback": [
      "\u001b[0;31m---------------------------------------------------------------------------\u001b[0m",
      "\u001b[0;31mTypeError\u001b[0m                                 Traceback (most recent call last)",
      "\u001b[0;32m<ipython-input-50-0fbe99678b40>\u001b[0m in \u001b[0;36m<module>\u001b[0;34m()\u001b[0m\n\u001b[1;32m     28\u001b[0m     \u001b[1;32mreturn\u001b[0m\u001b[1;33m(\u001b[0m\u001b[0mresult\u001b[0m\u001b[1;33m)\u001b[0m\u001b[1;33m\u001b[0m\u001b[0m\n\u001b[1;32m     29\u001b[0m \u001b[1;33m\u001b[0m\u001b[0m\n\u001b[0;32m---> 30\u001b[0;31m \u001b[0mmatrix_multiply\u001b[0m\u001b[1;33m(\u001b[0m\u001b[0mmatrix_1\u001b[0m\u001b[1;33m,\u001b[0m \u001b[0mmatrix_1\u001b[0m\u001b[1;33m)\u001b[0m\u001b[1;33m\u001b[0m\u001b[0m\n\u001b[0m",
      "\u001b[0;32m<ipython-input-50-0fbe99678b40>\u001b[0m in \u001b[0;36mmatrix_multiply\u001b[0;34m(a, b)\u001b[0m\n\u001b[1;32m     21\u001b[0m         \u001b[0mcol\u001b[0m \u001b[1;33m=\u001b[0m \u001b[1;36m0\u001b[0m\u001b[1;33m\u001b[0m\u001b[0m\n\u001b[1;32m     22\u001b[0m         \u001b[1;32mfor\u001b[0m \u001b[0mcol\u001b[0m \u001b[1;32min\u001b[0m \u001b[0ma\u001b[0m\u001b[1;33m[\u001b[0m\u001b[1;36m1\u001b[0m\u001b[1;33m]\u001b[0m\u001b[1;33m:\u001b[0m\u001b[1;33m\u001b[0m\u001b[0m\n\u001b[0;32m---> 23\u001b[0;31m             \u001b[0mrow\u001b[0m\u001b[1;33m.\u001b[0m\u001b[0mappend\u001b[0m\u001b[1;33m(\u001b[0m\u001b[0mentry_sum\u001b[0m\u001b[1;33m(\u001b[0m\u001b[0mrow\u001b[0m\u001b[1;33m,\u001b[0m \u001b[0mcol\u001b[0m\u001b[1;33m)\u001b[0m\u001b[1;33m)\u001b[0m\u001b[1;33m\u001b[0m\u001b[0m\n\u001b[0m\u001b[1;32m     24\u001b[0m             \u001b[0mcol\u001b[0m \u001b[1;33m+=\u001b[0m \u001b[1;36m1\u001b[0m\u001b[1;33m\u001b[0m\u001b[0m\n\u001b[1;32m     25\u001b[0m \u001b[1;33m\u001b[0m\u001b[0m\n",
      "\u001b[0;32m<ipython-input-50-0fbe99678b40>\u001b[0m in \u001b[0;36mentry_sum\u001b[0;34m(row, col)\u001b[0m\n\u001b[1;32m      6\u001b[0m \u001b[1;33m\u001b[0m\u001b[0m\n\u001b[1;32m      7\u001b[0m         \u001b[0mi\u001b[0m \u001b[1;33m=\u001b[0m \u001b[1;36m0\u001b[0m\u001b[1;33m\u001b[0m\u001b[0m\n\u001b[0;32m----> 8\u001b[0;31m         \u001b[1;32mfor\u001b[0m \u001b[0mnum\u001b[0m \u001b[1;32min\u001b[0m \u001b[0ma\u001b[0m\u001b[1;33m[\u001b[0m\u001b[0mrow\u001b[0m\u001b[1;33m]\u001b[0m\u001b[1;33m:\u001b[0m\u001b[1;33m\u001b[0m\u001b[0m\n\u001b[0m\u001b[1;32m      9\u001b[0m             \u001b[0mi\u001b[0m \u001b[1;33m+=\u001b[0m \u001b[1;36m1\u001b[0m\u001b[1;33m\u001b[0m\u001b[0m\n\u001b[1;32m     10\u001b[0m             \u001b[0mthis_sum\u001b[0m \u001b[1;33m+=\u001b[0m \u001b[0mnum\u001b[0m \u001b[1;33m*\u001b[0m \u001b[0mb\u001b[0m\u001b[1;33m[\u001b[0m\u001b[0mi\u001b[0m\u001b[1;33m]\u001b[0m\u001b[1;33m[\u001b[0m\u001b[0mcol\u001b[0m\u001b[1;33m]\u001b[0m\u001b[1;33m\u001b[0m\u001b[0m\n",
      "\u001b[0;31mTypeError\u001b[0m: list indices must be integers or slices, not list"
     ]
    }
   ],
   "source": [
    "def matrix_multiply(a, b):\n",
    "    def entry_sum(row, col):\n",
    "        # Calculate the value of an individual entry in the resultant matrix,\n",
    "        # given the row and column indices of the entry\n",
    "        this_sum = 0\n",
    "        \n",
    "        i = 0\n",
    "        for num in a[row]:\n",
    "            i += 1\n",
    "            this_sum += num * b[i][col]\n",
    "            \n",
    "        return this_sum\n",
    "        \n",
    "    # For every row in the original matrix, add a row to the new matrix\n",
    "    result = [list() for row in a]\n",
    "    \n",
    "    # Populate matrix with results\n",
    "    row = 0\n",
    "    for row in result:\n",
    "        # Populate columns\n",
    "        col = 0\n",
    "        for col in a[1]:\n",
    "            row.append(entry_sum(row, col))\n",
    "            col += 1\n",
    "            \n",
    "        row += 1\n",
    "    \n",
    "    return(result)\n",
    "        \n",
    "matrix_multiply(matrix_1, matrix_1)"
   ]
  },
  {
   "cell_type": "markdown",
   "metadata": {},
   "source": [
    "## Step 1: Now what?\n",
    "This function is a rather complex chain of functions. Let's make sure entry_sum() works."
   ]
  },
  {
   "cell_type": "code",
   "execution_count": 44,
   "metadata": {
    "collapsed": true
   },
   "outputs": [],
   "source": [
    "def entry_sum(a, b, row, col):\n",
    "    # Calculate the value of an individual entry in the resultant matrix,\n",
    "    # given the row and column indices of the entry\n",
    "    this_sum = 0\n",
    "\n",
    "    i = 0\n",
    "    for num in a[i]:\n",
    "        i += 1\n",
    "        this_sum += num * b[i][col]\n",
    "        \n",
    "    return this_sum"
   ]
  },
  {
   "cell_type": "code",
   "execution_count": 39,
   "metadata": {
    "collapsed": false
   },
   "outputs": [
    {
     "data": {
      "text/plain": [
       "[[1, 2], [3, 4]]"
      ]
     },
     "execution_count": 39,
     "metadata": {},
     "output_type": "execute_result"
    }
   ],
   "source": [
    "matrix_2 = [[1, 2], [3, 4]]\n",
    "matrix_3 = [[1, 3], [1, 3]]\n",
    "matrix_2"
   ]
  },
  {
   "cell_type": "code",
   "execution_count": 40,
   "metadata": {
    "collapsed": false
   },
   "outputs": [
    {
     "data": {
      "text/plain": [
       "[[1, 3], [1, 3]]"
      ]
     },
     "execution_count": 40,
     "metadata": {},
     "output_type": "execute_result"
    }
   ],
   "source": [
    "matrix_3"
   ]
  },
  {
   "cell_type": "code",
   "execution_count": 42,
   "metadata": {
    "collapsed": false
   },
   "outputs": [
    {
     "data": {
      "text/plain": [
       "matrix([[ 3,  9],\n",
       "        [ 7, 21]])"
      ]
     },
     "execution_count": 42,
     "metadata": {},
     "output_type": "execute_result"
    }
   ],
   "source": [
    "import numpy as np\n",
    "\n",
    "np.matrix(matrix_2) * np.matrix(matrix_3)"
   ]
  },
  {
   "cell_type": "code",
   "execution_count": 43,
   "metadata": {
    "collapsed": false
   },
   "outputs": [
    {
     "name": "stdout",
     "output_type": "stream",
     "text": [
      "num: 1\n",
      "a[i]: [1, 2]\n",
      "i: 0\n",
      "this_sum: 1\n",
      "num: 2\n",
      "a[i]: [3, 4]\n",
      "i: 1\n",
      "this_sum: 7\n"
     ]
    }
   ],
   "source": [
    "entry_sum(matrix_2, matrix_3, row=0, col=0)"
   ]
  },
  {
   "cell_type": "code",
   "execution_count": 63,
   "metadata": {
    "collapsed": true
   },
   "outputs": [],
   "source": [
    "def entry_sum(a, b, row, col):\n",
    "    # Calculate the value of an individual entry in the resultant matrix,\n",
    "    # given the row and column indices of the entry\n",
    "    this_sum = 0\n",
    "\n",
    "    i = 0\n",
    "    for num in a[row]:\n",
    "        this_sum += num * b[i][col]\n",
    "        i += 1\n",
    "        \n",
    "    return this_sum"
   ]
  },
  {
   "cell_type": "code",
   "execution_count": 64,
   "metadata": {
    "collapsed": false
   },
   "outputs": [
    {
     "data": {
      "text/plain": [
       "3"
      ]
     },
     "execution_count": 64,
     "metadata": {},
     "output_type": "execute_result"
    }
   ],
   "source": [
    "entry_sum(matrix_2, matrix_3, row=0, col=0)"
   ]
  },
  {
   "cell_type": "code",
   "execution_count": 65,
   "metadata": {
    "collapsed": false
   },
   "outputs": [
    {
     "data": {
      "text/plain": [
       "9"
      ]
     },
     "execution_count": 65,
     "metadata": {},
     "output_type": "execute_result"
    }
   ],
   "source": [
    "entry_sum(matrix_2, matrix_3, row=0, col=1)"
   ]
  },
  {
   "cell_type": "code",
   "execution_count": 61,
   "metadata": {
    "collapsed": false
   },
   "outputs": [
    {
     "data": {
      "text/plain": [
       "7"
      ]
     },
     "execution_count": 61,
     "metadata": {},
     "output_type": "execute_result"
    }
   ],
   "source": [
    "entry_sum(matrix_2, matrix_3, row=1, col=0)"
   ]
  },
  {
   "cell_type": "code",
   "execution_count": 62,
   "metadata": {
    "collapsed": false
   },
   "outputs": [
    {
     "data": {
      "text/plain": [
       "21"
      ]
     },
     "execution_count": 62,
     "metadata": {},
     "output_type": "execute_result"
    }
   ],
   "source": [
    "entry_sum(matrix_2, matrix_3, row=1, col=1)"
   ]
  },
  {
   "cell_type": "code",
   "execution_count": 69,
   "metadata": {
    "collapsed": false,
    "scrolled": true
   },
   "outputs": [
    {
     "data": {
      "text/plain": [
       "[[3, 9], [7, 21]]"
      ]
     },
     "execution_count": 69,
     "metadata": {},
     "output_type": "execute_result"
    }
   ],
   "source": [
    "def matrix_multiply(a, b):\n",
    "    def entry_sum(row, col):\n",
    "        # Calculate the value of an individual entry in the resultant matrix,\n",
    "        # given the row and column indices of the entry\n",
    "        this_sum = 0\n",
    "\n",
    "        i = 0\n",
    "        for num in a[row]:\n",
    "            this_sum += num * b[i][col]\n",
    "            i += 1\n",
    "\n",
    "        return this_sum\n",
    "        \n",
    "    # For every row in the original matrix, add a row to the new matrix\n",
    "    result = [list() for row in a]\n",
    "    \n",
    "    # Populate matrix with results\n",
    "    r = 0\n",
    "    for row in result:\n",
    "        # Populate columns\n",
    "        c = 0\n",
    "        for col in a[1]:\n",
    "            row.append(entry_sum(r, c))\n",
    "            c += 1\n",
    "            \n",
    "        r += 1\n",
    "    \n",
    "    return(result)\n",
    "        \n",
    "matrix_multiply(matrix_2, matrix_3)"
   ]
  },
  {
   "cell_type": "markdown",
   "metadata": {},
   "source": [
    "## Unit Testing\n"
   ]
  },
  {
   "cell_type": "code",
   "execution_count": 85,
   "metadata": {
    "collapsed": false
   },
   "outputs": [
    {
     "name": "stderr",
     "output_type": "stream",
     "text": [
      "E\n",
      "======================================================================\n",
      "ERROR: C:\\Users\\vince\\AppData\\Roaming\\jupyter\\runtime\\kernel-37c6f43c-6480-4382-a78a-952b2d69538f (unittest.loader._FailedTest)\n",
      "----------------------------------------------------------------------\n",
      "AttributeError: module '__main__' has no attribute 'C:\\Users\\vince\\AppData\\Roaming\\jupyter\\runtime\\kernel-37c6f43c-6480-4382-a78a-952b2d69538f'\n",
      "\n",
      "----------------------------------------------------------------------\n",
      "Ran 1 test in 0.002s\n",
      "\n",
      "FAILED (errors=1)\n"
     ]
    },
    {
     "ename": "SystemExit",
     "evalue": "True",
     "output_type": "error",
     "traceback": [
      "An exception has occurred, use %tb to see the full traceback.\n",
      "\u001b[0;31mSystemExit\u001b[0m\u001b[0;31m:\u001b[0m True\n"
     ]
    },
    {
     "name": "stderr",
     "output_type": "stream",
     "text": [
      "c:\\users\\vince\\appdata\\local\\programs\\python\\python36-32\\lib\\site-packages\\IPython\\core\\interactiveshell.py:2889: UserWarning: To exit: use 'exit', 'quit', or Ctrl-D.\n",
      "  warn(\"To exit: use 'exit', 'quit', or Ctrl-D.\", stacklevel=1)\n"
     ]
    }
   ],
   "source": [
    "# %load tests/matrix_multiplication_tests.py\n",
    "# Import the unittest module to create unit tests\n",
    "import unittest\n",
    "\n",
    "# Import our function to be tested\n",
    "#from matrix_multiplication import matrix_multiply\n",
    "\n",
    "class MatrixMultiplicationTest(unittest.TestCase):\n",
    "\n",
    "    '''\n",
    "     * We can name our methods anything we want as long as they begin with 'test'\n",
    "     * Each method corresponds with one test\n",
    "    '''\n",
    "    def test_3x3_identity(self):\n",
    "        matrix_1 = [[1, 2, 3],\n",
    "                    [4, 5, 6],\n",
    "                    [7, 8, 9]]\n",
    "        matrix_2 = [[1, 0, 0],\n",
    "                    [0, 1, 0],\n",
    "                    [0, 0, 1]]\n",
    "                  \n",
    "        expected_answer = matrix_1\n",
    "        output = matrix_multiply(matrix_1, matrix_2)\n",
    "        \n",
    "        self.assertEqual(output, expected_answer)\n",
    "\n",
    "# Put this final clause to make your tests run when this script is executed!\n",
    "#if __name__ == '__main__':\n",
    "unittest.main()"
   ]
  },
  {
   "cell_type": "code",
   "execution_count": 86,
   "metadata": {
    "collapsed": true
   },
   "outputs": [],
   "source": [
    "matrix_1 = [[1, 2, 3, 4, 5, 6, 7, 8, 9, 10],\n",
    "            [101, 102, 103, 104, 105, 106, 107, 108, 109, 110],\n",
    "            [31, 59, 68, 123, 345, 123, 145, 1000, 1023, 435],\n",
    "            [1, 2, 3, 4, 5, 6, 7, 8, 9, 10],\n",
    "            [101, 102, 103, 104, 105, 106, 107, 108, 109, 110],\n",
    "            [31, 59, 68, 123, 345, 123, 145, 1000, 1023, 435],\n",
    "            [1, 2, 3, 4, 5, 6, 7, 8, 9, 10],\n",
    "            [101, 102, 103, 104, 105, 106, 107, 108, 109, 110],\n",
    "            [31, 59, 68, 123, 345, 123, 145, 1000, 1023, 435],\n",
    "            [31, 59, 68, 123, 345, 123, 145, 1000, 1023, 435]]\n",
    "matrix_2 = [[1, 123, 23],\n",
    "            [2, 2, 2],\n",
    "            [2, 2, 2],\n",
    "            [123, 123, 432],\n",
    "            [4394, 432, 23],\n",
    "            [1, 123, 23],\n",
    "            [2, 2, 2],\n",
    "            [2, 2, 2],\n",
    "            [123, 123, 432],\n",
    "            [4394, 432, 23]]"
   ]
  },
  {
   "cell_type": "code",
   "execution_count": 88,
   "metadata": {
    "collapsed": false
   },
   "outputs": [
    {
     "data": {
      "text/plain": [
       "matrix([[  67556,    8980,    6162],\n",
       "        [ 971956,  145380,  102562],\n",
       "        [3570976,  499404,  519098],\n",
       "        [  67556,    8980,    6162],\n",
       "        [ 971956,  145380,  102562],\n",
       "        [3570976,  499404,  519098],\n",
       "        [  67556,    8980,    6162],\n",
       "        [ 971956,  145380,  102562],\n",
       "        [3570976,  499404,  519098],\n",
       "        [3570976,  499404,  519098]])"
      ]
     },
     "execution_count": 88,
     "metadata": {},
     "output_type": "execute_result"
    }
   ],
   "source": [
    "np.matrix(matrix_1) * np.matrix(matrix_2)"
   ]
  },
  {
   "cell_type": "markdown",
   "metadata": {},
   "source": [
    "## Error: 10x10 * 10x3\n",
    "It appears our function does not work when multiplying matrices of unequal dimensions.\n",
    "<pre><code>ERROR: test_10x10_10x3 (__main__.MatrixMultiplicationTest)\n",
    "<span>----------------------------------------------------------------------</span>\n",
    "Traceback (most recent call last):\n",
    "  File \"C:\\Users\\vince\\Dropbox\\My Projects\\Python-Notes\\Untitled Folder\\tests\\matrix_multiplication_tests.py\", line 74, in test_10x10_10x3\n",
    "    output = matrix_multiply(matrix_1, matrix_2)\n",
    "  File \"C:\\Users\\vince\\Dropbox\\My Projects\\Python-Notes\\Untitled Folder\\tests\\matrix_multiplication.py\", line 23, in matrix_multiply\n",
    "    row.append(entry_sum(r, c))\n",
    "  File \"C:\\Users\\vince\\Dropbox\\My Projects\\Python-Notes\\Untitled Folder\\tests\\matrix_multiplication.py\", line 9, in entry_sum\n",
    "    this_sum += num * b[i][col]\n",
    "IndexError: list index out of range</code></pre>"
   ]
  },
  {
   "cell_type": "code",
   "execution_count": 103,
   "metadata": {
    "collapsed": true
   },
   "outputs": [],
   "source": [
    "matrix_1 = [[1, 15, 1],\n",
    "            [13, 1, 8],\n",
    "            [1, 1, 90]]\n",
    "\n",
    "matrix_2 = [[1, 9],\n",
    "            [5, 17],\n",
    "            [2, 31]]"
   ]
  },
  {
   "cell_type": "markdown",
   "metadata": {},
   "source": [
    "### Correct Output"
   ]
  },
  {
   "cell_type": "code",
   "execution_count": 104,
   "metadata": {
    "collapsed": false
   },
   "outputs": [
    {
     "data": {
      "text/plain": [
       "matrix([[  78,  295],\n",
       "        [  34,  382],\n",
       "        [ 186, 2816]])"
      ]
     },
     "execution_count": 104,
     "metadata": {},
     "output_type": "execute_result"
    }
   ],
   "source": [
    "np.matrix(matrix_1) * np.matrix(matrix_2)"
   ]
  },
  {
   "cell_type": "markdown",
   "metadata": {},
   "source": [
    "### Actual Output"
   ]
  },
  {
   "cell_type": "code",
   "execution_count": 91,
   "metadata": {
    "collapsed": false
   },
   "outputs": [
    {
     "ename": "IndexError",
     "evalue": "list index out of range",
     "output_type": "error",
     "traceback": [
      "\u001b[0;31m---------------------------------------------------------------------------\u001b[0m",
      "\u001b[0;31mIndexError\u001b[0m                                Traceback (most recent call last)",
      "\u001b[0;32m<ipython-input-91-e9feae0ab195>\u001b[0m in \u001b[0;36m<module>\u001b[0;34m()\u001b[0m\n\u001b[0;32m----> 1\u001b[0;31m \u001b[0mmatrix_multiply\u001b[0m\u001b[1;33m(\u001b[0m\u001b[0mmatrix_1\u001b[0m\u001b[1;33m,\u001b[0m \u001b[0mmatrix_2\u001b[0m\u001b[1;33m)\u001b[0m\u001b[1;33m\u001b[0m\u001b[0m\n\u001b[0m",
      "\u001b[0;32m<ipython-input-69-e392a15ad040>\u001b[0m in \u001b[0;36mmatrix_multiply\u001b[0;34m(a, b)\u001b[0m\n\u001b[1;32m     21\u001b[0m         \u001b[0mc\u001b[0m \u001b[1;33m=\u001b[0m \u001b[1;36m0\u001b[0m\u001b[1;33m\u001b[0m\u001b[0m\n\u001b[1;32m     22\u001b[0m         \u001b[1;32mfor\u001b[0m \u001b[0mcol\u001b[0m \u001b[1;32min\u001b[0m \u001b[0ma\u001b[0m\u001b[1;33m[\u001b[0m\u001b[1;36m1\u001b[0m\u001b[1;33m]\u001b[0m\u001b[1;33m:\u001b[0m\u001b[1;33m\u001b[0m\u001b[0m\n\u001b[0;32m---> 23\u001b[0;31m             \u001b[0mrow\u001b[0m\u001b[1;33m.\u001b[0m\u001b[0mappend\u001b[0m\u001b[1;33m(\u001b[0m\u001b[0mentry_sum\u001b[0m\u001b[1;33m(\u001b[0m\u001b[0mr\u001b[0m\u001b[1;33m,\u001b[0m \u001b[0mc\u001b[0m\u001b[1;33m)\u001b[0m\u001b[1;33m)\u001b[0m\u001b[1;33m\u001b[0m\u001b[0m\n\u001b[0m\u001b[1;32m     24\u001b[0m             \u001b[0mc\u001b[0m \u001b[1;33m+=\u001b[0m \u001b[1;36m1\u001b[0m\u001b[1;33m\u001b[0m\u001b[0m\n\u001b[1;32m     25\u001b[0m \u001b[1;33m\u001b[0m\u001b[0m\n",
      "\u001b[0;32m<ipython-input-69-e392a15ad040>\u001b[0m in \u001b[0;36mentry_sum\u001b[0;34m(row, col)\u001b[0m\n\u001b[1;32m      7\u001b[0m         \u001b[0mi\u001b[0m \u001b[1;33m=\u001b[0m \u001b[1;36m0\u001b[0m\u001b[1;33m\u001b[0m\u001b[0m\n\u001b[1;32m      8\u001b[0m         \u001b[1;32mfor\u001b[0m \u001b[0mnum\u001b[0m \u001b[1;32min\u001b[0m \u001b[0ma\u001b[0m\u001b[1;33m[\u001b[0m\u001b[0mrow\u001b[0m\u001b[1;33m]\u001b[0m\u001b[1;33m:\u001b[0m\u001b[1;33m\u001b[0m\u001b[0m\n\u001b[0;32m----> 9\u001b[0;31m             \u001b[0mthis_sum\u001b[0m \u001b[1;33m+=\u001b[0m \u001b[0mnum\u001b[0m \u001b[1;33m*\u001b[0m \u001b[0mb\u001b[0m\u001b[1;33m[\u001b[0m\u001b[0mi\u001b[0m\u001b[1;33m]\u001b[0m\u001b[1;33m[\u001b[0m\u001b[0mcol\u001b[0m\u001b[1;33m]\u001b[0m\u001b[1;33m\u001b[0m\u001b[0m\n\u001b[0m\u001b[1;32m     10\u001b[0m             \u001b[0mi\u001b[0m \u001b[1;33m+=\u001b[0m \u001b[1;36m1\u001b[0m\u001b[1;33m\u001b[0m\u001b[0m\n\u001b[1;32m     11\u001b[0m \u001b[1;33m\u001b[0m\u001b[0m\n",
      "\u001b[0;31mIndexError\u001b[0m: list index out of range"
     ]
    }
   ],
   "source": [
    "matrix_multiply(matrix_1, matrix_2)"
   ]
  },
  {
   "cell_type": "markdown",
   "metadata": {},
   "source": [
    "## Fixing\n",
    "Since the traceback directly pointed out our `entry_sum()` function as being the main location where the error occurred, we will pull it out again and manually verify that it works for each entry."
   ]
  },
  {
   "cell_type": "code",
   "execution_count": 92,
   "metadata": {
    "collapsed": true
   },
   "outputs": [],
   "source": [
    "def entry_sum(a, b, row, col):\n",
    "    # Calculate the value of an individual entry in the resultant matrix,\n",
    "    # given the row and column indices of the entry\n",
    "    this_sum = 0\n",
    "\n",
    "    i = 0\n",
    "    for num in a[row]:\n",
    "        this_sum += num * b[i][col]\n",
    "        i += 1\n",
    "        \n",
    "    return this_sum"
   ]
  },
  {
   "cell_type": "code",
   "execution_count": 110,
   "metadata": {
    "collapsed": false
   },
   "outputs": [
    {
     "data": {
      "text/plain": [
       "78"
      ]
     },
     "execution_count": 110,
     "metadata": {},
     "output_type": "execute_result"
    }
   ],
   "source": [
    "entry_sum(matrix_1, matrix_2, row=0, col=0)\n"
   ]
  },
  {
   "cell_type": "code",
   "execution_count": 112,
   "metadata": {
    "collapsed": false
   },
   "outputs": [
    {
     "data": {
      "text/plain": [
       "295"
      ]
     },
     "execution_count": 112,
     "metadata": {},
     "output_type": "execute_result"
    }
   ],
   "source": [
    "entry_sum(matrix_1, matrix_2, row=0, col=1)"
   ]
  },
  {
   "cell_type": "code",
   "execution_count": 113,
   "metadata": {
    "collapsed": false
   },
   "outputs": [
    {
     "data": {
      "text/plain": [
       "34"
      ]
     },
     "execution_count": 113,
     "metadata": {},
     "output_type": "execute_result"
    }
   ],
   "source": [
    "entry_sum(matrix_1, matrix_2, row=1, col=0)"
   ]
  },
  {
   "cell_type": "code",
   "execution_count": 111,
   "metadata": {
    "collapsed": false
   },
   "outputs": [
    {
     "data": {
      "text/plain": [
       "382"
      ]
     },
     "execution_count": 111,
     "metadata": {},
     "output_type": "execute_result"
    }
   ],
   "source": [
    "entry_sum(matrix_1, matrix_2, row=1, col=1)"
   ]
  },
  {
   "cell_type": "code",
   "execution_count": 106,
   "metadata": {
    "collapsed": false
   },
   "outputs": [
    {
     "data": {
      "text/plain": [
       "186"
      ]
     },
     "execution_count": 106,
     "metadata": {},
     "output_type": "execute_result"
    }
   ],
   "source": [
    "entry_sum(matrix_1, matrix_2, row=2, col=0)"
   ]
  },
  {
   "cell_type": "code",
   "execution_count": 107,
   "metadata": {
    "collapsed": false
   },
   "outputs": [
    {
     "data": {
      "text/plain": [
       "2816"
      ]
     },
     "execution_count": 107,
     "metadata": {},
     "output_type": "execute_result"
    }
   ],
   "source": [
    "entry_sum(matrix_1, matrix_2, row=2, col=1)"
   ]
  },
  {
   "cell_type": "markdown",
   "metadata": {},
   "source": [
    "### Next Try\n",
    "The `entry_sum()` function did exactly what it was supposed to. This is a mixed blessing, because while this means a key part of our code works as intended, it also means we have to look elsewhere to see where the error occurred."
   ]
  },
  {
   "cell_type": "code",
   "execution_count": 126,
   "metadata": {
    "collapsed": false
   },
   "outputs": [
    {
     "data": {
      "text/plain": [
       "[[78, 295], [34, 382], [186, 2816]]"
      ]
     },
     "execution_count": 126,
     "metadata": {},
     "output_type": "execute_result"
    }
   ],
   "source": [
    "def matrix_multiply(a, b):\n",
    "    def entry_sum(row, col):\n",
    "        # Calculate the value of an individual entry in the resultant matrix,\n",
    "        # given the row and column indices of the entry\n",
    "        this_sum = 0\n",
    "\n",
    "        i = 0\n",
    "        for num in a[row]:\n",
    "            this_sum += num * b[i][col]\n",
    "            i += 1\n",
    "\n",
    "        return this_sum\n",
    "        \n",
    "    # For every row in the original matrix, add a row to the new matrix\n",
    "    result = [list() for row in a]\n",
    "    \n",
    "    # Populate matrix with results\n",
    "    r = 0\n",
    "    for row in result:\n",
    "        # Populate columns\n",
    "        c = 0\n",
    "        \n",
    "        for col in range(1, min(len(a[1]), len(b[1])) + 1):  # Correction\n",
    "            row.append(entry_sum(r, c))\n",
    "            c += 1\n",
    "            \n",
    "        r += 1\n",
    "    \n",
    "    return(result)\n",
    "        \n",
    "matrix_multiply(matrix_1, matrix_2)"
   ]
  },
  {
   "cell_type": "code",
   "execution_count": 118,
   "metadata": {
    "collapsed": false
   },
   "outputs": [
    {
     "data": {
      "text/plain": [
       "3"
      ]
     },
     "execution_count": 118,
     "metadata": {},
     "output_type": "execute_result"
    }
   ],
   "source": [
    "len(matrix_1[1])"
   ]
  },
  {
   "cell_type": "code",
   "execution_count": 119,
   "metadata": {
    "collapsed": false
   },
   "outputs": [
    {
     "data": {
      "text/plain": [
       "2"
      ]
     },
     "execution_count": 119,
     "metadata": {},
     "output_type": "execute_result"
    }
   ],
   "source": [
    "len(matrix_2[1])"
   ]
  },
  {
   "cell_type": "code",
   "execution_count": 125,
   "metadata": {
    "collapsed": false
   },
   "outputs": [
    {
     "data": {
      "text/plain": [
       "[1, 2]"
      ]
     },
     "execution_count": 125,
     "metadata": {},
     "output_type": "execute_result"
    }
   ],
   "source": [
    "list(range(1, min(len(matrix_1[1]), len(matrix_2[1]) + 1)))"
   ]
  },
  {
   "cell_type": "code",
   "execution_count": 127,
   "metadata": {
    "collapsed": false
   },
   "outputs": [
    {
     "data": {
      "text/plain": [
       "matrix([[ 20],\n",
       "        [ 62],\n",
       "        [104]])"
      ]
     },
     "execution_count": 127,
     "metadata": {},
     "output_type": "execute_result"
    }
   ],
   "source": [
    "np.matrix([[1, 2, 3],\n",
    "                    [4, 5, 6],\n",
    "                    [7, 8, 9]]) * np.matrix([[10], [2], [2]])"
   ]
  },
  {
   "cell_type": "markdown",
   "metadata": {},
   "source": [
    "## Conclusion\n",
    "While computer programs are rigid and logical, debugging them is more like an art. When a program goes wrong, pinpointing the error is not always an obvious task. Succesfully debugging a program involves:\n",
    "* Knowing (on paper) what a correctly functioning program looks like. This includes knowing:\n",
    " * The result\n",
    " * The intermediate steps\n",
    "* Knowing how the different pieces of your program are supposed to fit together\n",
    "* Patience\n",
    "\n",
    "There is no magic involved in debugging."
   ]
  }
 ],
 "metadata": {
  "kernelspec": {
   "display_name": "Python 3",
   "language": "python",
   "name": "python3"
  },
  "language_info": {
   "codemirror_mode": {
    "name": "ipython",
    "version": 3
   },
   "file_extension": ".py",
   "mimetype": "text/x-python",
   "name": "python",
   "nbconvert_exporter": "python",
   "pygments_lexer": "ipython3",
   "version": "3.6.0"
  }
 },
 "nbformat": 4,
 "nbformat_minor": 2
}
