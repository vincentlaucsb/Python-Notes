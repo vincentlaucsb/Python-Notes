{
 "cells": [
  {
   "cell_type": "markdown",
   "metadata": {},
   "source": [
    "## Reference/Inspiration\n",
    "http://simeonfranklin.com/blog/2012/jul/1/python-decorators-in-12-steps/"
   ]
  },
  {
   "cell_type": "code",
   "execution_count": 55,
   "metadata": {
    "collapsed": true
   },
   "outputs": [],
   "source": [
    "def logger(func):\n",
    "    def inner(*args, **kwargs):\n",
    "        print(\"Arguments were: {0} {1}\".format(args, kwargs))\n",
    "        return func(*args, **kwargs)\n",
    "    \n",
    "    return inner"
   ]
  },
  {
   "cell_type": "code",
   "execution_count": 56,
   "metadata": {
    "collapsed": false
   },
   "outputs": [],
   "source": [
    "@logger\n",
    "def factorial(n):\n",
    "    if (n == 0):\n",
    "        return 1\n",
    "    \n",
    "    return n * factorial(n - 1)"
   ]
  },
  {
   "cell_type": "code",
   "execution_count": 57,
   "metadata": {
    "collapsed": false
   },
   "outputs": [
    {
     "name": "stdout",
     "output_type": "stream",
     "text": [
      "Arguments were: (5,) {}\n",
      "Arguments were: (4,) {}\n",
      "Arguments were: (3,) {}\n",
      "Arguments were: (2,) {}\n",
      "Arguments were: (1,) {}\n",
      "Arguments were: (0,) {}\n"
     ]
    },
    {
     "data": {
      "text/plain": [
       "120"
      ]
     },
     "execution_count": 57,
     "metadata": {},
     "output_type": "execute_result"
    }
   ],
   "source": [
    "factorial(5)"
   ]
  },
  {
   "cell_type": "code",
   "execution_count": 59,
   "metadata": {
    "collapsed": true
   },
   "outputs": [],
   "source": [
    "def logger(func):\n",
    "    def inner(*args, **kwargs):\n",
    "        print(func, \"called, \", \"Arguments were:\", args, kwargs)\n",
    "        return func(*args, **kwargs)\n",
    "    \n",
    "    return inner"
   ]
  },
  {
   "cell_type": "code",
   "execution_count": 60,
   "metadata": {
    "collapsed": false
   },
   "outputs": [
    {
     "name": "stdout",
     "output_type": "stream",
     "text": [
      "<function combination at 0x014FBA98> called,  Arguments were: () {'n': 5, 'r': 3}\n",
      "<function factorial at 0x014FBC00> called,  Arguments were: (5,) {}\n",
      "<function factorial at 0x014FBC00> called,  Arguments were: (4,) {}\n",
      "<function factorial at 0x014FBC00> called,  Arguments were: (3,) {}\n",
      "<function factorial at 0x014FBC00> called,  Arguments were: (2,) {}\n",
      "<function factorial at 0x014FBC00> called,  Arguments were: (1,) {}\n",
      "<function factorial at 0x014FBC00> called,  Arguments were: (0,) {}\n",
      "<function factorial at 0x014FBC00> called,  Arguments were: (3,) {}\n",
      "<function factorial at 0x014FBC00> called,  Arguments were: (2,) {}\n",
      "<function factorial at 0x014FBC00> called,  Arguments were: (1,) {}\n",
      "<function factorial at 0x014FBC00> called,  Arguments were: (0,) {}\n",
      "<function factorial at 0x014FBC00> called,  Arguments were: (2,) {}\n",
      "<function factorial at 0x014FBC00> called,  Arguments were: (1,) {}\n",
      "<function factorial at 0x014FBC00> called,  Arguments were: (0,) {}\n"
     ]
    },
    {
     "data": {
      "text/plain": [
       "10.0"
      ]
     },
     "execution_count": 60,
     "metadata": {},
     "output_type": "execute_result"
    }
   ],
   "source": [
    "@logger\n",
    "def combination(n, r):\n",
    "    return factorial(n)/(factorial(r) * factorial(n - r))\n",
    "\n",
    "@logger\n",
    "def permutation(n, r):\n",
    "    return factorial(n)/factorial(n - r)\n",
    "\n",
    "@logger\n",
    "def factorial(n):\n",
    "    if (n == 0):\n",
    "        return 1\n",
    "    \n",
    "    return n * factorial(n - 1)\n",
    "\n",
    "combination(n=5, r=3)"
   ]
  }
 ],
 "metadata": {
  "kernelspec": {
   "display_name": "Python 3",
   "language": "python",
   "name": "python3"
  },
  "language_info": {
   "codemirror_mode": {
    "name": "ipython",
    "version": 3
   },
   "file_extension": ".py",
   "mimetype": "text/x-python",
   "name": "python",
   "nbconvert_exporter": "python",
   "pygments_lexer": "ipython3",
   "version": "3.6.0"
  }
 },
 "nbformat": 4,
 "nbformat_minor": 2
}
