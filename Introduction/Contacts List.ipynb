{
 "cells": [
  {
   "cell_type": "code",
   "execution_count": 1,
   "metadata": {
    "collapsed": true
   },
   "outputs": [],
   "source": [
    "persons = {}"
   ]
  },
  {
   "cell_type": "markdown",
   "metadata": {},
   "source": [
    "## Add Some People"
   ]
  },
  {
   "cell_type": "code",
   "execution_count": 2,
   "metadata": {
    "collapsed": true
   },
   "outputs": [],
   "source": [
    "def add_contact(name, phone=\"\", email=\"\"):    \n",
    "    details = {\n",
    "        'phone': phone,\n",
    "        'email': email\n",
    "    }\n",
    "    \n",
    "    persons[name] = details"
   ]
  },
  {
   "cell_type": "code",
   "execution_count": 3,
   "metadata": {
    "collapsed": false
   },
   "outputs": [],
   "source": [
    "add_contact('George Washington', phone='8057041776')\n",
    "add_contact('Thomas Jefferson', phone='5107041776', email='born2bfree@hotmail.com')\n",
    "add_contact('John Hancock', phone='4157041776')\n",
    "add_contact('Paul Revere', phone='5104181775', email='brits.r.comin@gmail.com')\n",
    "add_contact('Benedict Arnold', phone='5106141801')"
   ]
  },
  {
   "cell_type": "code",
   "execution_count": 4,
   "metadata": {
    "collapsed": false
   },
   "outputs": [
    {
     "data": {
      "text/plain": [
       "{'email': '', 'phone': '8057041776'}"
      ]
     },
     "execution_count": 4,
     "metadata": {},
     "output_type": "execute_result"
    }
   ],
   "source": [
    "persons['George Washington']"
   ]
  },
  {
   "cell_type": "markdown",
   "metadata": {},
   "source": [
    "## Print All"
   ]
  },
  {
   "cell_type": "code",
   "execution_count": 5,
   "metadata": {
    "collapsed": true
   },
   "outputs": [],
   "source": [
    "def show_contacts():\n",
    "    for person in persons:\n",
    "        print(person)\n",
    "        \n",
    "        details = persons[person]\n",
    "        print(\"Phone Number:\", details['phone'])\n",
    "        if details['email']:\n",
    "            print(\"Email:\", details['email'])\n",
    "            \n",
    "        print('\\n')"
   ]
  },
  {
   "cell_type": "code",
   "execution_count": 6,
   "metadata": {
    "collapsed": false
   },
   "outputs": [
    {
     "name": "stdout",
     "output_type": "stream",
     "text": [
      "George Washington\n",
      "Phone Number: 8057041776\n",
      "\n",
      "\n",
      "Thomas Jefferson\n",
      "Phone Number: 5107041776\n",
      "Email: born2bfree@hotmail.com\n",
      "\n",
      "\n",
      "John Hancock\n",
      "Phone Number: 4157041776\n",
      "\n",
      "\n",
      "Paul Revere\n",
      "Phone Number: 5104181775\n",
      "Email: brits.r.comin@gmail.com\n",
      "\n",
      "\n",
      "Benedict Arnold\n",
      "Phone Number: 5106141801\n",
      "\n",
      "\n"
     ]
    }
   ],
   "source": [
    "show_contacts()"
   ]
  },
  {
   "cell_type": "code",
   "execution_count": 7,
   "metadata": {
    "collapsed": false
   },
   "outputs": [],
   "source": [
    "def show_contacts():\n",
    "    for person in persons:\n",
    "        print(person)\n",
    "        \n",
    "        details = persons[person]\n",
    "        \n",
    "        phone_raw = str(details['phone'])\n",
    "        phone_number = \"({area_code}) {0}-{1} \".format(\n",
    "            phone_raw[3:6], phone_raw[6:], area_code=phone_raw[0:3])\n",
    "        \n",
    "        print(\"Phone Number:\", phone_number)\n",
    "        if details['email']:\n",
    "            print(\"Email:\", details['email'])\n",
    "            \n",
    "        print('\\n')"
   ]
  },
  {
   "cell_type": "code",
   "execution_count": 8,
   "metadata": {
    "collapsed": false
   },
   "outputs": [
    {
     "name": "stdout",
     "output_type": "stream",
     "text": [
      "George Washington\n",
      "Phone Number: (805) 704-1776 \n",
      "\n",
      "\n",
      "Thomas Jefferson\n",
      "Phone Number: (510) 704-1776 \n",
      "Email: born2bfree@hotmail.com\n",
      "\n",
      "\n",
      "John Hancock\n",
      "Phone Number: (415) 704-1776 \n",
      "\n",
      "\n",
      "Paul Revere\n",
      "Phone Number: (510) 418-1775 \n",
      "Email: brits.r.comin@gmail.com\n",
      "\n",
      "\n",
      "Benedict Arnold\n",
      "Phone Number: (510) 614-1801 \n",
      "\n",
      "\n"
     ]
    }
   ],
   "source": [
    "show_contacts()"
   ]
  },
  {
   "cell_type": "markdown",
   "metadata": {},
   "source": [
    "## Search by Name"
   ]
  },
  {
   "cell_type": "code",
   "execution_count": 9,
   "metadata": {
    "collapsed": true
   },
   "outputs": [],
   "source": [
    "def show_contacts(contact_list):\n",
    "    for person in contact_list:\n",
    "        print(person)\n",
    "        \n",
    "        details = contact_list[person]\n",
    "        \n",
    "        phone_raw = str(details['phone'])\n",
    "        phone_number = \"({area_code}) {0}-{1} \".format(\n",
    "            phone_raw[3:6], phone_raw[6:], area_code=phone_raw[0:3])\n",
    "        \n",
    "        print(\"Phone Number:\", phone_number)\n",
    "        if details['email']:\n",
    "            print(\"Email:\", details['email'])\n",
    "            \n",
    "        print('\\n')\n",
    "\n",
    "def search_by_name(name):\n",
    "    matches = {}\n",
    "    \n",
    "    for person in persons:\n",
    "        if name in person:\n",
    "            matches[person] = persons[person]\n",
    "         \n",
    "    if matches:\n",
    "        show_contacts(matches)\n",
    "    else:\n",
    "        print(\"No results found for '{0}'.\".format(name))"
   ]
  },
  {
   "cell_type": "code",
   "execution_count": 10,
   "metadata": {
    "collapsed": false
   },
   "outputs": [
    {
     "name": "stdout",
     "output_type": "stream",
     "text": [
      "George Washington\n",
      "Phone Number: (805) 704-1776 \n",
      "\n",
      "\n"
     ]
    }
   ],
   "source": [
    "search_by_name('Washington')"
   ]
  },
  {
   "cell_type": "code",
   "execution_count": 11,
   "metadata": {
    "collapsed": false
   },
   "outputs": [
    {
     "name": "stdout",
     "output_type": "stream",
     "text": [
      "No results found for 'thomas'.\n"
     ]
    }
   ],
   "source": [
    "search_by_name('thomas')"
   ]
  },
  {
   "cell_type": "code",
   "execution_count": 12,
   "metadata": {
    "collapsed": true
   },
   "outputs": [],
   "source": [
    "def search_by_name(name):\n",
    "    matches = {}\n",
    "    \n",
    "    for person in persons:\n",
    "        # Make both search query and person name all lowercase\n",
    "        if name.lower() in person.lower():\n",
    "            matches[person] = persons[person]\n",
    "         \n",
    "    if matches:\n",
    "        show_contacts(matches)\n",
    "    else:\n",
    "        print(\"No results found for '{0}'.\".format(name))"
   ]
  },
  {
   "cell_type": "code",
   "execution_count": 13,
   "metadata": {
    "collapsed": false
   },
   "outputs": [
    {
     "name": "stdout",
     "output_type": "stream",
     "text": [
      "Thomas Jefferson\n",
      "Phone Number: (510) 704-1776 \n",
      "Email: born2bfree@hotmail.com\n",
      "\n",
      "\n"
     ]
    }
   ],
   "source": [
    "search_by_name('JEFFERSON')"
   ]
  },
  {
   "cell_type": "code",
   "execution_count": 14,
   "metadata": {
    "collapsed": false
   },
   "outputs": [
    {
     "name": "stdout",
     "output_type": "stream",
     "text": [
      "Thomas Jefferson\n",
      "Phone Number: (510) 704-1776 \n",
      "Email: born2bfree@hotmail.com\n",
      "\n",
      "\n"
     ]
    }
   ],
   "source": [
    "search_by_name('THOMAS JEFFERSON')"
   ]
  },
  {
   "cell_type": "markdown",
   "metadata": {},
   "source": [
    "## Search by Phone Number"
   ]
  },
  {
   "cell_type": "code",
   "execution_count": 15,
   "metadata": {
    "collapsed": true
   },
   "outputs": [],
   "source": [
    "def search_by_number(number):\n",
    "    matches = {}\n",
    "    \n",
    "    for person in persons:\n",
    "        # We can chain operators in Python\n",
    "        if number in persons[person][\"phone\"]:\n",
    "            matches[person] = persons[person]\n",
    "         \n",
    "    if matches:\n",
    "        show_contacts(matches)\n",
    "    else:\n",
    "        print(\"No results found for '{0}'.\".format(name))"
   ]
  },
  {
   "cell_type": "markdown",
   "metadata": {},
   "source": [
    "### An Error\n",
    "It appears the code above does not work because when checking if `x in y` we need `x` to be a string. The fix for this is simple--simply change our `number` variable into a string with the `str()` function."
   ]
  },
  {
   "cell_type": "code",
   "execution_count": 16,
   "metadata": {
    "collapsed": false
   },
   "outputs": [
    {
     "ename": "TypeError",
     "evalue": "'in <string>' requires string as left operand, not int",
     "output_type": "error",
     "traceback": [
      "\u001b[0;31m---------------------------------------------------------------------------\u001b[0m",
      "\u001b[0;31mTypeError\u001b[0m                                 Traceback (most recent call last)",
      "\u001b[0;32m<ipython-input-16-ea8a6fcd74f9>\u001b[0m in \u001b[0;36m<module>\u001b[0;34m()\u001b[0m\n\u001b[0;32m----> 1\u001b[0;31m \u001b[0msearch_by_number\u001b[0m\u001b[1;33m(\u001b[0m\u001b[1;36m510\u001b[0m\u001b[1;33m)\u001b[0m\u001b[1;33m\u001b[0m\u001b[0m\n\u001b[0m",
      "\u001b[0;32m<ipython-input-15-e4299356fdf5>\u001b[0m in \u001b[0;36msearch_by_number\u001b[0;34m(number)\u001b[0m\n\u001b[1;32m      4\u001b[0m     \u001b[1;32mfor\u001b[0m \u001b[0mperson\u001b[0m \u001b[1;32min\u001b[0m \u001b[0mpersons\u001b[0m\u001b[1;33m:\u001b[0m\u001b[1;33m\u001b[0m\u001b[0m\n\u001b[1;32m      5\u001b[0m         \u001b[1;31m# We can chain operators in Python\u001b[0m\u001b[1;33m\u001b[0m\u001b[1;33m\u001b[0m\u001b[0m\n\u001b[0;32m----> 6\u001b[0;31m         \u001b[1;32mif\u001b[0m \u001b[0mnumber\u001b[0m \u001b[1;32min\u001b[0m \u001b[0mpersons\u001b[0m\u001b[1;33m[\u001b[0m\u001b[0mperson\u001b[0m\u001b[1;33m]\u001b[0m\u001b[1;33m[\u001b[0m\u001b[1;34m\"phone\"\u001b[0m\u001b[1;33m]\u001b[0m\u001b[1;33m:\u001b[0m\u001b[1;33m\u001b[0m\u001b[0m\n\u001b[0m\u001b[1;32m      7\u001b[0m             \u001b[0mmatches\u001b[0m\u001b[1;33m[\u001b[0m\u001b[0mperson\u001b[0m\u001b[1;33m]\u001b[0m \u001b[1;33m=\u001b[0m \u001b[0mpersons\u001b[0m\u001b[1;33m[\u001b[0m\u001b[0mperson\u001b[0m\u001b[1;33m]\u001b[0m\u001b[1;33m\u001b[0m\u001b[0m\n\u001b[1;32m      8\u001b[0m \u001b[1;33m\u001b[0m\u001b[0m\n",
      "\u001b[0;31mTypeError\u001b[0m: 'in <string>' requires string as left operand, not int"
     ]
    }
   ],
   "source": [
    "search_by_number(510)"
   ]
  },
  {
   "cell_type": "markdown",
   "metadata": {},
   "source": [
    "### Fixed\n",
    "With this simple fix, our function works perfectly."
   ]
  },
  {
   "cell_type": "code",
   "execution_count": 17,
   "metadata": {
    "collapsed": true
   },
   "outputs": [],
   "source": [
    "def search_by_number(number):\n",
    "    matches = {}\n",
    "    \n",
    "    for person in persons:\n",
    "        # Change number to a string\n",
    "        if str(number) in persons[person][\"phone\"]:\n",
    "            matches[person] = persons[person]\n",
    "         \n",
    "    if matches:\n",
    "        show_contacts(matches)\n",
    "    else:\n",
    "        print(\"No results found for '{0}'.\".format(name))"
   ]
  },
  {
   "cell_type": "code",
   "execution_count": 18,
   "metadata": {
    "collapsed": false
   },
   "outputs": [
    {
     "name": "stdout",
     "output_type": "stream",
     "text": [
      "Thomas Jefferson\n",
      "Phone Number: (510) 704-1776 \n",
      "Email: born2bfree@hotmail.com\n",
      "\n",
      "\n",
      "Paul Revere\n",
      "Phone Number: (510) 418-1775 \n",
      "Email: brits.r.comin@gmail.com\n",
      "\n",
      "\n",
      "Benedict Arnold\n",
      "Phone Number: (510) 614-1801 \n",
      "\n",
      "\n"
     ]
    }
   ],
   "source": [
    "search_by_number(510)"
   ]
  },
  {
   "cell_type": "markdown",
   "metadata": {},
   "source": [
    "## Search by Email"
   ]
  },
  {
   "cell_type": "code",
   "execution_count": 19,
   "metadata": {
    "collapsed": true
   },
   "outputs": [],
   "source": [
    "def search_by_field(field, value):\n",
    "    matches = {}\n",
    "    \n",
    "    for person in persons:\n",
    "        # We can chain operators in Python\n",
    "        if str(value).lower() in persons[person][field].lower():\n",
    "            matches[person] = persons[person]\n",
    "         \n",
    "    if matches:\n",
    "        show_contacts(matches)\n",
    "    else:\n",
    "        print(\"No results found for '{0}'.\".format(name))\n",
    "        \n",
    "def search_by_number(number):\n",
    "    search_by_field(field=\"phone\", value=number)\n",
    "    \n",
    "def search_by_email(email):\n",
    "    search_by_field(field=\"email\", value=email)"
   ]
  },
  {
   "cell_type": "code",
   "execution_count": 20,
   "metadata": {
    "collapsed": false
   },
   "outputs": [
    {
     "name": "stdout",
     "output_type": "stream",
     "text": [
      "Paul Revere\n",
      "Phone Number: (510) 418-1775 \n",
      "Email: brits.r.comin@gmail.com\n",
      "\n",
      "\n"
     ]
    }
   ],
   "source": [
    "search_by_email('gmail')"
   ]
  },
  {
   "cell_type": "markdown",
   "metadata": {},
   "source": [
    "## Function to Update Contacts\n",
    "In addition to adding contacts, it seems instinctive that we should also have functions that update and remove contacts.\n",
    "\n",
    "### Removing Contacts\n",
    "We will go over removing contacts first, since it is very straightforward."
   ]
  },
  {
   "cell_type": "code",
   "execution_count": 21,
   "metadata": {
    "collapsed": true
   },
   "outputs": [],
   "source": [
    "def remove_contact(name):\n",
    "    del persons[name]"
   ]
  },
  {
   "cell_type": "markdown",
   "metadata": {},
   "source": [
    "#### Testing"
   ]
  },
  {
   "cell_type": "code",
   "execution_count": 22,
   "metadata": {
    "collapsed": false
   },
   "outputs": [
    {
     "data": {
      "text/plain": [
       "{'George Washington': {'email': '', 'phone': '8057041776'},\n",
       " 'John Hancock': {'email': '', 'phone': '4157041776'},\n",
       " 'Paul Revere': {'email': 'brits.r.comin@gmail.com', 'phone': '5104181775'},\n",
       " 'Thomas Jefferson': {'email': 'born2bfree@hotmail.com',\n",
       "  'phone': '5107041776'}}"
      ]
     },
     "execution_count": 22,
     "metadata": {},
     "output_type": "execute_result"
    }
   ],
   "source": [
    "remove_contact('Benedict Arnold')\n",
    "persons"
   ]
  },
  {
   "cell_type": "markdown",
   "metadata": {},
   "source": [
    "### Updating Contacts\n",
    "While there are a lot of ways we can go about this, a relative simple solution would be to create a function which:\n",
    "1. Takes a name and corresponding fields to be updated\n",
    "2. Prints if the operation was succesful or an error message (caused by the name not being found)"
   ]
  },
  {
   "cell_type": "markdown",
   "metadata": {},
   "source": [
    "#### Solution #1"
   ]
  },
  {
   "cell_type": "code",
   "execution_count": 27,
   "metadata": {
    "collapsed": true
   },
   "outputs": [],
   "source": [
    "def update_contact(name, phone=\"\", email=\"\"):\n",
    "    if name in persons:\n",
    "        details = {\n",
    "            'phone': phone,\n",
    "            'email': email\n",
    "        }\n",
    "        persons[name] = details\n",
    "        \n",
    "    else:\n",
    "        print(\"Could not find {0}.\".format(name))"
   ]
  },
  {
   "cell_type": "code",
   "execution_count": 28,
   "metadata": {
    "collapsed": false
   },
   "outputs": [
    {
     "name": "stdout",
     "output_type": "stream",
     "text": [
      "Could not find Abraham Lincoln.\n"
     ]
    }
   ],
   "source": [
    "update_contact(\"Abraham Lincoln\")"
   ]
  },
  {
   "cell_type": "code",
   "execution_count": 29,
   "metadata": {
    "collapsed": true
   },
   "outputs": [],
   "source": [
    "update_contact(\"George Washington\", email=\"gw@delawareboatadventures.com\")"
   ]
  },
  {
   "cell_type": "code",
   "execution_count": 30,
   "metadata": {
    "collapsed": false
   },
   "outputs": [
    {
     "name": "stdout",
     "output_type": "stream",
     "text": [
      "George Washington\n",
      "Phone Number: () - \n",
      "Email: gw@delawareboatadventures.com\n",
      "\n",
      "\n"
     ]
    }
   ],
   "source": [
    "search_by_name(\"George Washington\")"
   ]
  },
  {
   "cell_type": "markdown",
   "metadata": {},
   "source": [
    "#### Solution #2"
   ]
  },
  {
   "cell_type": "code",
   "execution_count": 34,
   "metadata": {
    "collapsed": false
   },
   "outputs": [
    {
     "name": "stdout",
     "output_type": "stream",
     "text": [
      "George Washington\n",
      "Phone Number: (805) 704-1776 \n",
      "\n",
      "\n"
     ]
    }
   ],
   "source": [
    "# Reset \"George Washington\" entry\n",
    "del persons['George Washington']\n",
    "add_contact('George Washington', phone='8057041776')\n",
    "search_by_name(\"George Washington\")"
   ]
  },
  {
   "cell_type": "code",
   "execution_count": 38,
   "metadata": {
    "collapsed": true
   },
   "outputs": [],
   "source": [
    "def update_contact(name, **kwargs):\n",
    "    if name in persons:\n",
    "        for field in kwargs:\n",
    "            persons[name][field] = kwargs[field]\n",
    "    else:\n",
    "        print(\"Could not find {0}.\".format(name))"
   ]
  },
  {
   "cell_type": "code",
   "execution_count": 37,
   "metadata": {
    "collapsed": false
   },
   "outputs": [
    {
     "name": "stdout",
     "output_type": "stream",
     "text": [
      "George Washington\n",
      "Phone Number: (805) 704-1776 \n",
      "Email: gw@delawareboatadventures.com\n",
      "\n",
      "\n"
     ]
    }
   ],
   "source": [
    "update_contact(\"George Washington\", email=\"gw@delawareboatadventures.com\")\n",
    "search_by_name(\"George Washington\")"
   ]
  }
 ],
 "metadata": {
  "kernelspec": {
   "display_name": "Python 3",
   "language": "python",
   "name": "python3"
  },
  "language_info": {
   "codemirror_mode": {
    "name": "ipython",
    "version": 3
   },
   "file_extension": ".py",
   "mimetype": "text/x-python",
   "name": "python",
   "nbconvert_exporter": "python",
   "pygments_lexer": "ipython3",
   "version": "3.6.0"
  }
 },
 "nbformat": 4,
 "nbformat_minor": 2
}
