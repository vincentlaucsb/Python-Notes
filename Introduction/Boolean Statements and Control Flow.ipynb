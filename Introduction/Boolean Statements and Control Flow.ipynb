{
 "cells": [
  {
   "cell_type": "markdown",
   "metadata": {},
   "source": [
    "# Boolean Statements\n",
    "## What is a Boolean statement?\n",
    "\n",
    "From Wikipedia:\n",
    "> In computer science, a Boolean expression is an expression in a programming language that produces a Boolean value when evaluated, i.e. one of true or false.\n",
    "\n",
    "Boolean statements are named after George Boole, who thought of the idea of representing false statements as 0s, and true statements as 1s. This simple idea is now what underpins all of modern computing.\n",
    "\n",
    "## Evaluating Boolean Statements Directly\n",
    "\n",
    "In Python, we can directly check the truth-value of a Boolean statement by directly executing it. Sometimes, it may also be useful to get the value of a Boolean statement using the function `bool()`. When creating Boolean statements, we can use **comparison operators** such as:\n",
    "\n",
    "Operator | Result\n",
    "---------|--------\n",
    "x = y    | True if x is equal to y. False otherwise.\n",
    "x != y \t | True if x is not equal to y. False otherwise.\n",
    "x > y \t | True if x is greater than y. False otherwise.\n",
    "x >= y \t | True if x is greater than or equal to y. False otherwise.\n",
    "x < y \t | True if x is less than y. False otherwise.\n",
    "x <= y \t | True if x is less than or equal to y. False otherwise.\n",
    "\n",
    "These are similar to the operators you've dealt with in every math class since algebra, so we will skimp a little on their explanation.\n",
    "\n",
    "### Example"
   ]
  },
  {
   "cell_type": "code",
   "execution_count": 1,
   "metadata": {
    "collapsed": false
   },
   "outputs": [
    {
     "data": {
      "text/plain": [
       "False"
      ]
     },
     "execution_count": 1,
     "metadata": {},
     "output_type": "execute_result"
    }
   ],
   "source": [
    "x = 5\n",
    "x > 10"
   ]
  },
  {
   "cell_type": "markdown",
   "metadata": {},
   "source": [
    "#### Using bool()"
   ]
  },
  {
   "cell_type": "code",
   "execution_count": 2,
   "metadata": {
    "collapsed": false
   },
   "outputs": [
    {
     "data": {
      "text/plain": [
       "False"
      ]
     },
     "execution_count": 2,
     "metadata": {},
     "output_type": "execute_result"
    }
   ],
   "source": [
    "result = bool(x > 10)\n",
    "result"
   ]
  },
  {
   "cell_type": "markdown",
   "metadata": {},
   "source": [
    "### Example 2: Checking if x is between two numbers\n",
    "Here, we are basically asking Python \"Is x greater than 0 and less than 10?\""
   ]
  },
  {
   "cell_type": "code",
   "execution_count": 3,
   "metadata": {
    "collapsed": false
   },
   "outputs": [
    {
     "data": {
      "text/plain": [
       "True"
      ]
     },
     "execution_count": 3,
     "metadata": {},
     "output_type": "execute_result"
    }
   ],
   "source": [
    "x = 5\n",
    "0 < x < 10"
   ]
  },
  {
   "cell_type": "code",
   "execution_count": 4,
   "metadata": {
    "collapsed": false
   },
   "outputs": [
    {
     "data": {
      "text/plain": [
       "False"
      ]
     },
     "execution_count": 4,
     "metadata": {},
     "output_type": "execute_result"
    }
   ],
   "source": [
    "x = 20\n",
    "0 < x < 10"
   ]
  },
  {
   "cell_type": "markdown",
   "metadata": {},
   "source": [
    "This is exactly the same as the math inequality notation. This is important to note because not every programming language supports this type of syntax."
   ]
  },
  {
   "cell_type": "markdown",
   "metadata": {},
   "source": [
    "## Why do Boolean statements matter?\n",
    "Often when programming we want to do one thing if a certain condition is true, but another thing is it is false.\n",
    "\n",
    "We evaluate \"Boolean statements\" in our everyday lives as well. For example, before walking out the door, you might evaluate something like, \"If it there are zombies outside, I will grab my gun. Otherwise, I'll leave it home.\" This statement can be translated into Python-like pseudocode (fake non-functioning code which demonstrates a concept) like this:\n",
    "\n",
    "``\n",
    "proposition = \"There are zombies\"\n",
    "if proposition is True:\n",
    "    get_weapon(\"rifle\")\n",
    "    get_weapon(\"flamethrower\")\n",
    "else:\n",
    "    do_nothing()\n",
    "    live_normally()\n",
    "``\n",
    "\n",
    "In the previous example, the Boolean statement was the proposition \"there are zombies.\" This proposition has two values, **True** or **False**. The **if** branch of our program executes if the proposition is True. The **else** branch executes if it is False. Below, you will also see branches that begin with the word **elif** (else-if). These branches execute if the preceding if branches do not.\n",
    "\n",
    "Also notice the capitalization of **True** and **False**. This is because Python has these keywords reserved to refer to the potential values of Boolean statements. Anytime you want to refer to Boolean values, you should always use True or False capitalized in that way. Likewise, you should never use True or False as variable, function, etc. names."
   ]
  },
  {
   "cell_type": "markdown",
   "metadata": {},
   "source": [
    "# Control Flow\n",
    "## Another Analogy\n",
    "\n",
    "If, else-if, and else statements allow us to create more complex and useful functions and programs in Python. When Python reads a script, it executes statements from top to bottom. Metaphorically speaking, we can say that a script *flows* a certain way (top to bottom). Likewise, we can think of a large group of people flowing into a facility that has a swimming pool. Furthermore, we can imagine it would be reasonable to divert this flow in certain ways. If a person is very young or otherwise lacks swimming ability, then we tell them to go to the shallow end of the pool. Otherwise, they have the option to go to the deep end.\n",
    "\n",
    "In this example, we are evaluating a condition: a person's swimming ability. Based on our evaluation, we may choose one option or another. In Python, if, else, and else if statements allow us to make different choices based on conditionals as well.\n",
    "\n",
    "## Basic Syntax\n",
    "\n",
    "The basic syntax for Python if, else-if, and else statements looks like this:\n",
    "\n",
    "if condition_1:\n",
    "    # code that executes if condition_1 is True goes here\n",
    "elif condition_2:\n",
    "    # code that executes if condition_2 is True goes here\n",
    "else:\n",
    "    # code that executes if condition_3 is True goes here"
   ]
  },
  {
   "cell_type": "markdown",
   "metadata": {},
   "source": [
    "### Example: A Simple If/Else Branch\n",
    "\n",
    "This script demonstrates a simple if/else branch. The condition being evaluated here is if x is a positive number or not. Based on the results of that conditional, we either state that it is a positive or a non-positive number. (Note: Zero is neither a positive nor a negative number)."
   ]
  },
  {
   "cell_type": "code",
   "execution_count": 5,
   "metadata": {
    "collapsed": false
   },
   "outputs": [
    {
     "name": "stdout",
     "output_type": "stream",
     "text": [
      "x is a positive number.\n"
     ]
    }
   ],
   "source": [
    "x = 5\n",
    "\n",
    "if x > 0:\n",
    "    print(\"x is a positive number.\")\n",
    "else:\n",
    "    print(\"x is a non-positive number.\")"
   ]
  },
  {
   "cell_type": "markdown",
   "metadata": {},
   "source": [
    "### Example: A Simple If/Else If/Else Branch\n",
    "\n",
    "By extending the previous example, we can a little extra complexity to our flow of control by adding an `elif` (else if) statement.\n"
   ]
  },
  {
   "cell_type": "code",
   "execution_count": 6,
   "metadata": {
    "collapsed": false
   },
   "outputs": [
    {
     "name": "stdout",
     "output_type": "stream",
     "text": [
      "x is zero.\n"
     ]
    }
   ],
   "source": [
    "x = 0\n",
    "\n",
    "if x > 0:\n",
    "    print(\"x is a positive number.\")\n",
    "elif x == 0:\n",
    "    print(\"x is zero.\")\n",
    "else:\n",
    "    print(\"x is a negative number.\")"
   ]
  },
  {
   "cell_type": "markdown",
   "metadata": {},
   "source": [
    "**Else-if branches only execute if the preceding if (and else-if) branches are false.** For example, if you run the code below, you'll notice that the message \"x is 1\" does not get outputted."
   ]
  },
  {
   "cell_type": "code",
   "execution_count": 7,
   "metadata": {
    "collapsed": false
   },
   "outputs": [
    {
     "name": "stdout",
     "output_type": "stream",
     "text": [
      "x is a positive number.\n"
     ]
    }
   ],
   "source": [
    "x = 1\n",
    "\n",
    "if x > 0:\n",
    "    print(\"x is a positive number.\")\n",
    "elif x == 1:\n",
    "    print(\"x is 1.\")\n",
    "elif x == 0:\n",
    "    print(\"x is 0.\")\n",
    "else:\n",
    "    print(\"x is a negative number.\")"
   ]
  },
  {
   "cell_type": "markdown",
   "metadata": {},
   "source": [
    "If you want \"x is 1.\" to be ouputted in addition to \"x is a positive number.\", then you'll want to change the `elif x == 1` statement to a `if x == 1` statement. \n",
    "\n",
    "#### English Translation\n",
    "\n",
    "Some may find it very helpful to translate the above Python if/elif/else statements into natural English sentences:\n",
    "\n",
    "* If x is greater than 0, then print out \"x is a positive number.\"\n",
    "* Otherwise, we have three remaining options.\n",
    " * If x is equal to 1, print out \"x is 1.\"\n",
    " * If the previous is not true, and x is equal to 0, print out \"x is 0.\"\n",
    "* If none of the previous are true, print out \"x is a negative number.\"\n"
   ]
  },
  {
   "cell_type": "markdown",
   "metadata": {},
   "source": [
    "## Some Rules About If/Else Branches\n",
    "\n",
    "Most of these rules are intuitive, but it's helpful to go over them.\n",
    "\n",
    "* If statements can stand on their own (i.e. we can use if statements without using else statements as well)\n",
    " * We make \"if statements\" often in real life without accompanying \"else statements\", e.g. \"If I come back from work by 5, we'll go to the grocery store.\"\n",
    " * The above statement has an implied else statement. \"If I'm still working at 5, we're not going to the grocery store.\" But just like in real life and in Python, explicit else statements are not always necessary to achieve your goal.\n",
    "* Else statements require accompanying if statements.\n",
    " * \"Give me a refund or else I'll sue!\" makes sense. On the other hand, \"Or else I'll sue!\" is gibberish.\n"
   ]
  },
  {
   "cell_type": "markdown",
   "metadata": {},
   "source": [
    "\n",
    "## Combining If/Else Branches\n",
    "Sometimes, it may be necessary to use a combination of if/else branches to solve a problem. In the example below, we want to print a message stating which one of five groups a number belongs to:\n",
    "* Even positive number\n",
    "* Odd positive number\n",
    "* Even (non-positive) number (i.e. zero)\n",
    "* Odd negative number\n",
    "* Even negative number\n",
    "\n",
    "### A More Complicated Example\n",
    "This example uses the `input()` function to prompt the user for input. The first `if` statement is based on the fact that any even number divided by 2 has remainder 0 (this follows from the definition of an even number).\n",
    "\n",
    "(If you are viewing this as a Jupyter notebook on your computer, you can keep re-running the example below by selecting the cell below and hitting `Control + Enter`. Otherwise, you can copy and paste the code into a `.py` file and run it.)"
   ]
  },
  {
   "cell_type": "code",
   "execution_count": 8,
   "metadata": {
    "collapsed": false
   },
   "outputs": [
    {
     "name": "stdout",
     "output_type": "stream",
     "text": [
      "Enter a whole number\n",
      "1337\n",
      "x is an odd positive number.\n"
     ]
    }
   ],
   "source": [
    "x = int(input('Enter a whole number\\n'))\n",
    "\n",
    "# Determine if number is even or odd\n",
    "even_or_odd = \"even\"\n",
    "\n",
    "if (x%2 != 0):\n",
    "    even_or_odd = \"odd\"\n",
    "    \n",
    "# Determine if number is positive, negative, or neither and print out the appropriate message\n",
    "if (x == 0):\n",
    "    print(\"x is zero.\")\n",
    "else:\n",
    "    # The if/else branches below only execute if x is not zero\n",
    "    if (x < 0):\n",
    "        print(\"x is an {0} negative number.\".format(even_or_odd))\n",
    "    else:\n",
    "        print(\"x is an {0} positive number.\".format(even_or_odd))"
   ]
  },
  {
   "cell_type": "markdown",
   "metadata": {},
   "source": [
    "## More Syntax and Operators\n",
    "### Parentheses\n",
    "While it is not necessary, we can surround our conditions with parentheses.\n",
    "\n",
    "if (condition_1):\n",
    "    # code that executes if condition_1 is True goes here\n",
    "elif (condition_2):\n",
    "    # code that executes if condition_2 is True goes here\n",
    "else:\n",
    "    # code that executes if condition_3 is True goes here\n",
    "\n",
    "### Logical Operators\n",
    "Parentheses become very useful we want to create more complicated truth statements by making them easier to read. **Logical operators** can be used in Python for creating more complex Boolean statements.\n",
    "\n",
    "Operator | Result \n",
    "---------|--------\n",
    "p and q  | True if both p and q are True. False if either p or q are False.\n",
    "p or q \t | True if either p or q is True. False if both are False.\n",
    "not p \t | Returns the opposite truth-value of p.\n",
    "\n",
    "For anybody who has ever had a lesson on formal logic, e.g. in a philosophy, math, or computer science class, this table should not come as a surprise. For everybody else, here's your introduction to formal logic! If you are confused about why the above statements have certain results, then Google \"truth tables.\" (The logical operations above are called \"conjunction,\" \"disjunction,\" and \"negation\" respectively.)\n",
    "\n",
    "#### Examples\n",
    "##### Is x a positive number with at least five digits?\n",
    "Here we find the number of digits in a number by converting it to a string and then using the `len()` method, which tells us how many characters are in a string. This workaround is necessary because `len()` does not work directly on numbers."
   ]
  },
  {
   "cell_type": "code",
   "execution_count": 9,
   "metadata": {
    "collapsed": false
   },
   "outputs": [
    {
     "name": "stdout",
     "output_type": "stream",
     "text": [
      "x is a positive number that is at least five digits long.\n"
     ]
    }
   ],
   "source": [
    "x = 93117\n",
    "\n",
    "if (x > 0) and (len(str(x)) >= 5):\n",
    "     print(\"x is a positive number that is at least five digits long.\")"
   ]
  },
  {
   "cell_type": "markdown",
   "metadata": {},
   "source": [
    "For a list of more string methods, refer to the official [Python documentation](https://docs.python.org/3/library/stdtypes.html#text-sequence-type-str).\n",
    "\n",
    "##### Is x a positive integer that is also 5 digits long?"
   ]
  },
  {
   "cell_type": "code",
   "execution_count": 10,
   "metadata": {
    "collapsed": false
   },
   "outputs": [
    {
     "name": "stdout",
     "output_type": "stream",
     "text": [
      "x is a five digit integer.\n"
     ]
    }
   ],
   "source": [
    "x = 50000\n",
    "\n",
    "if (type(x) == int) and (x > 0) and (len(str(x)) == 5):\n",
    "     print(\"x is a five digit integer.\")"
   ]
  },
  {
   "cell_type": "markdown",
   "metadata": {},
   "source": [
    "This example shows that is possible to chain together many truth statements together with logical operators. However, be nice to yourself and other people who might have to code with you and avoid creating unnecessarily complex conditional statements. When creating long chains of statements like this, ask yourself if there is a simpler and easier to read way of doing the same thing."
   ]
  }
 ],
 "metadata": {
  "kernelspec": {
   "display_name": "Python 3",
   "language": "python",
   "name": "python3"
  },
  "language_info": {
   "codemirror_mode": {
    "name": "ipython",
    "version": 3
   },
   "file_extension": ".py",
   "mimetype": "text/x-python",
   "name": "python",
   "nbconvert_exporter": "python",
   "pygments_lexer": "ipython3",
   "version": "3.6.0"
  }
 },
 "nbformat": 4,
 "nbformat_minor": 2
}
