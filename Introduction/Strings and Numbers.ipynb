{
 "cells": [
  {
   "cell_type": "markdown",
   "metadata": {},
   "source": [
    "# Strings and Numbers\n",
    "## Introduction\n",
    "Our physical world is filled with all sorts of data. Programming languages allow us to simplify and abstract that data so we can perform useful operations on them. For example, you could use Python's string handling capabilities to create a program which allows you to enter the titles of the books you own and then store that into a text file. For a more complicated example, you could create a list of the books you do not own yet, and then create a web crawler which searches across online book stores and alerts you to good deals. A lot is possible with Python—if you first learn how to use its basic building blocks.\n",
    "\n",
    "## A Brief Overview\n",
    "### Strings\n",
    "\n",
    "Strings are sequences of characters. Some examples include: ```'ABCDEFGH#@!#(@UE'``` and ```'The cat in the hat'```. Like the previous examples, anything surrounded in single quotes is considered a string. We can also use double or even triple (three ' or three \") quotes. Furthermore, we can also embed single quotes within double quotes and vice-versa (this actually does come in handy).\n",
    "\n",
    "#### Example: Single, Double, and Triple Quotes"
   ]
  },
  {
   "cell_type": "code",
   "execution_count": 1,
   "metadata": {
    "collapsed": true
   },
   "outputs": [],
   "source": [
    "x = \"A string\"\n",
    "y = 'A string'\n",
    "z = '''A string'''"
   ]
  },
  {
   "cell_type": "markdown",
   "metadata": {},
   "source": [
    "Are these the same thing?"
   ]
  },
  {
   "cell_type": "code",
   "execution_count": 2,
   "metadata": {
    "collapsed": false
   },
   "outputs": [
    {
     "data": {
      "text/plain": [
       "True"
      ]
     },
     "execution_count": 2,
     "metadata": {},
     "output_type": "execute_result"
    }
   ],
   "source": [
    "x == y == z"
   ]
  },
  {
   "cell_type": "markdown",
   "metadata": {},
   "source": [
    "The last statement is a Boolean statement, which you will learn about soon. Without diving into details, we are asking Python whether or not the variables x, y, and z are equal to each other. As you can see, despite using different types of quotes, Python considers them to be the same."
   ]
  },
  {
   "cell_type": "markdown",
   "metadata": {},
   "source": [
    "#### Example: Quote Embedding"
   ]
  },
  {
   "cell_type": "code",
   "execution_count": 3,
   "metadata": {
    "collapsed": true
   },
   "outputs": [],
   "source": [
    "quote = \"The governor said that there was a 'fat chance' of the bill passing.\""
   ]
  },
  {
   "cell_type": "markdown",
   "metadata": {},
   "source": [
    "### Numbers"
   ]
  },
  {
   "cell_type": "markdown",
   "metadata": {},
   "source": [
    "An **integer** (or \"int\") is, unsurprisingly, any real whole number. Examples include: -5, 0, 1, and 999.\n",
    "\n",
    "A **floating point number** (or \"float\") is a decimal number. In Python, all fractions are represented as floating point numbers."
   ]
  },
  {
   "cell_type": "markdown",
   "metadata": {},
   "source": [
    "## Type\n",
    "\n",
    "All data in Python can be classified by its **type**, which means exactly what you think it means. What type of data is ```'The cat in the hat'```? String. What type of data is ```123```? It's an integer.\n",
    "\n",
    "Now, why does this matter? Python enforces strict rules which dictate how different data types interact with each other. When one of these rules is broken, Python spits out an error message.\n",
    "\n",
    "\n",
    "### Common Errors Involving (Mismatched) Data Types\n",
    "The reason why type is emphasized is because a data's type determines how it interacts with other data. In real life, if a person asked you to \"multiply 5 by 5\", you would (hopefully) have no problem answering that question. But what if a person asked you to \"take the square root of 'potato'\"? You would probably respond with a look of bewilderment on your face, and so would Python (or at least we would imagine if Python were a person). "
   ]
  },
  {
   "cell_type": "markdown",
   "metadata": {},
   "source": [
    "#### Examples of Python arithmetic"
   ]
  },
  {
   "cell_type": "code",
   "execution_count": 4,
   "metadata": {
    "collapsed": false
   },
   "outputs": [
    {
     "data": {
      "text/plain": [
       "25"
      ]
     },
     "execution_count": 4,
     "metadata": {},
     "output_type": "execute_result"
    }
   ],
   "source": [
    "5*5"
   ]
  },
  {
   "cell_type": "code",
   "execution_count": 5,
   "metadata": {
    "collapsed": false
   },
   "outputs": [
    {
     "data": {
      "text/plain": [
       "5.0"
      ]
     },
     "execution_count": 5,
     "metadata": {},
     "output_type": "execute_result"
    }
   ],
   "source": [
    "25**(1/2)\n",
    "5.0"
   ]
  },
  {
   "cell_type": "markdown",
   "metadata": {},
   "source": [
    "#### Non-example"
   ]
  },
  {
   "cell_type": "code",
   "execution_count": 6,
   "metadata": {
    "collapsed": false
   },
   "outputs": [
    {
     "ename": "TypeError",
     "evalue": "unsupported operand type(s) for ** or pow(): 'str' and 'float'",
     "output_type": "error",
     "traceback": [
      "\u001b[0;31m---------------------------------------------------------------------------\u001b[0m",
      "\u001b[0;31mTypeError\u001b[0m                                 Traceback (most recent call last)",
      "\u001b[0;32m<ipython-input-6-202dd01af426>\u001b[0m in \u001b[0;36m<module>\u001b[0;34m()\u001b[0m\n\u001b[0;32m----> 1\u001b[0;31m \u001b[1;34m\"potato\"\u001b[0m\u001b[1;33m**\u001b[0m\u001b[1;33m(\u001b[0m\u001b[1;36m1\u001b[0m\u001b[1;33m/\u001b[0m\u001b[1;36m2\u001b[0m\u001b[1;33m)\u001b[0m\u001b[1;33m\u001b[0m\u001b[0m\n\u001b[0m",
      "\u001b[0;31mTypeError\u001b[0m: unsupported operand type(s) for ** or pow(): 'str' and 'float'"
     ]
    }
   ],
   "source": [
    "\"potato\"**(1/2)"
   ]
  },
  {
   "cell_type": "markdown",
   "metadata": {},
   "source": [
    "Because ```'potato'``` is a string, and 1/2 is (or evalutes to) a floating point number, the ```**``` operator has no meaning between them. Python's error message is its way of asking the programmer \"Wtf?\""
   ]
  },
  {
   "cell_type": "markdown",
   "metadata": {},
   "source": [
    "### '123' is not the same as 123"
   ]
  },
  {
   "cell_type": "code",
   "execution_count": 7,
   "metadata": {
    "collapsed": false
   },
   "outputs": [
    {
     "ename": "TypeError",
     "evalue": "unsupported operand type(s) for +: 'int' and 'str'",
     "output_type": "error",
     "traceback": [
      "\u001b[0;31m---------------------------------------------------------------------------\u001b[0m",
      "\u001b[0;31mTypeError\u001b[0m                                 Traceback (most recent call last)",
      "\u001b[0;32m<ipython-input-7-ee3e20b9a270>\u001b[0m in \u001b[0;36m<module>\u001b[0;34m()\u001b[0m\n\u001b[1;32m      1\u001b[0m \u001b[0mx\u001b[0m \u001b[1;33m=\u001b[0m \u001b[1;36m123\u001b[0m\u001b[1;33m\u001b[0m\u001b[0m\n\u001b[1;32m      2\u001b[0m \u001b[0my\u001b[0m \u001b[1;33m=\u001b[0m \u001b[1;34m'123'\u001b[0m\u001b[1;33m\u001b[0m\u001b[0m\n\u001b[0;32m----> 3\u001b[0;31m \u001b[0mx\u001b[0m \u001b[1;33m+\u001b[0m \u001b[0my\u001b[0m\u001b[1;33m\u001b[0m\u001b[0m\n\u001b[0m",
      "\u001b[0;31mTypeError\u001b[0m: unsupported operand type(s) for +: 'int' and 'str'"
     ]
    }
   ],
   "source": [
    "x = 123\n",
    "y = '123'\n",
    "x + y"
   ]
  },
  {
   "cell_type": "markdown",
   "metadata": {},
   "source": [
    "As you can see above, anything surrounded in single (or double) quotes is considered to be a string. On the other hand, numbers without quotes are either integers or floats (depending on if they have a decimal or not). Because placing the plus sign between a string and integer in Python is an undefined operation, doing so will spit out an error, even if it is \"obvious\" what the answer should be.\n",
    "\n",
    "This is likely a problem that will bite you many times over the course of your Python adventures. Luckily, the solution is simple."
   ]
  },
  {
   "cell_type": "markdown",
   "metadata": {},
   "source": [
    "#### Solution\n",
    "\n",
    "Use ```int()``` or ```float()``` to convert numeric strings into numbers.\n"
   ]
  },
  {
   "cell_type": "code",
   "execution_count": 8,
   "metadata": {
    "collapsed": false
   },
   "outputs": [
    {
     "data": {
      "text/plain": [
       "246"
      ]
     },
     "execution_count": 8,
     "metadata": {},
     "output_type": "execute_result"
    }
   ],
   "source": [
    "x + int(y)\n",
    "246"
   ]
  },
  {
   "cell_type": "markdown",
   "metadata": {},
   "source": [
    "What will this do?"
   ]
  },
  {
   "cell_type": "code",
   "execution_count": 9,
   "metadata": {
    "collapsed": false
   },
   "outputs": [
    {
     "data": {
      "text/plain": [
       "'3.143.14'"
      ]
     },
     "execution_count": 9,
     "metadata": {},
     "output_type": "execute_result"
    }
   ],
   "source": [
    "pi = '3.14'\n",
    "pi * 2"
   ]
  },
  {
   "cell_type": "code",
   "execution_count": 10,
   "metadata": {
    "collapsed": false
   },
   "outputs": [
    {
     "data": {
      "text/plain": [
       "6.28"
      ]
     },
     "execution_count": 10,
     "metadata": {},
     "output_type": "execute_result"
    }
   ],
   "source": [
    "float(pi) * 2\n",
    "6.28\n"
   ]
  },
  {
   "cell_type": "markdown",
   "metadata": {},
   "source": [
    "In the outputs above, we can see a few things happened:\n",
    "* Using the ```int()``` function on y converted it into an integer.\n",
    "* Placing the * symbol between pi and 2 didn't result in an error, but it didn't result in the arithmetic we were expecting either.\n",
    " * This is because the * symbol actually has a defined use for strings, which is repeating the string by the specified amount of times (here, it was twice).\n",
    "* Using the ```float()``` function converted pi into a decimal number."
   ]
  },
  {
   "cell_type": "markdown",
   "metadata": {},
   "source": [
    "#### Aside: This is how you should use pi in Python\n",
    "You can actually import the constant ```pi``` from Python's built-in ```math``` library as opposed to manually defining it like I did above."
   ]
  },
  {
   "cell_type": "code",
   "execution_count": 11,
   "metadata": {
    "collapsed": false
   },
   "outputs": [
    {
     "data": {
      "text/plain": [
       "3.141592653589793"
      ]
     },
     "execution_count": 11,
     "metadata": {},
     "output_type": "execute_result"
    }
   ],
   "source": [
    "from math import pi\n",
    "pi"
   ]
  },
  {
   "cell_type": "markdown",
   "metadata": {},
   "source": [
    "## More Errors\n",
    "\n",
    "Errors are a fact of life in programming. Nobody escapes errors indefinitely unless they are incredibly lucky, or the projects they are working on are very trivial. Thus, learning how to deal with errors—which includes learning to read error messages—is an essential Python skill.\n",
    "\n",
    "### Syntax Error\n",
    "\n",
    "Examples of syntax errors in English include:\n",
    "\n",
    "* I putted the items on the shelf.\n",
    "* I want to buy a car a house and a dog.\n",
    "* Your car is blocking the sidewalk yesterday.\n",
    "\n",
    "Just like English, Python also has grammar rules. However, while you could probably still infer the meaning of the sentences above, Python has zero tolerance for bad grammar. Most syntax errors, no matter how \"trivial\", will crash a program. Usually, syntax errors involve missing quotes (like forgetting to close off strings), missing colons, missing parentheses, or mis-indented code blocks.\n",
    "\n",
    "#### Error Caused by Mismatched Quotes\n",
    "Because the start and end quotes were mismatched, Python did not get the hint that we wanted to end the line of code right there. Therefore, Python reached the end of line (EOL) while still reading (what it thought was) an open string."
   ]
  },
  {
   "cell_type": "code",
   "execution_count": 12,
   "metadata": {
    "collapsed": false
   },
   "outputs": [
    {
     "ename": "SyntaxError",
     "evalue": "EOL while scanning string literal (<ipython-input-12-b7c75331cd48>, line 1)",
     "output_type": "error",
     "traceback": [
      "\u001b[0;36m  File \u001b[0;32m\"<ipython-input-12-b7c75331cd48>\"\u001b[0;36m, line \u001b[0;32m1\u001b[0m\n\u001b[0;31m    string = \"...was cut too short'\u001b[0m\n\u001b[0m                                   ^\u001b[0m\n\u001b[0;31mSyntaxError\u001b[0m\u001b[0;31m:\u001b[0m EOL while scanning string literal\n"
     ]
    }
   ],
   "source": [
    "string = \"...was cut too short'"
   ]
  },
  {
   "cell_type": "markdown",
   "metadata": {},
   "source": [
    "#### Error Caused by Missing Bracket\n",
    "Here we are trying to declare a list (see next lesson) but forgot a bracket."
   ]
  },
  {
   "cell_type": "code",
   "execution_count": 13,
   "metadata": {
    "collapsed": false
   },
   "outputs": [
    {
     "ename": "SyntaxError",
     "evalue": "unexpected EOF while parsing (<ipython-input-13-256e5101d3de>, line 1)",
     "output_type": "error",
     "traceback": [
      "\u001b[0;36m  File \u001b[0;32m\"<ipython-input-13-256e5101d3de>\"\u001b[0;36m, line \u001b[0;32m1\u001b[0m\n\u001b[0;31m    my_list = [1, 2,\u001b[0m\n\u001b[0m                     ^\u001b[0m\n\u001b[0;31mSyntaxError\u001b[0m\u001b[0;31m:\u001b[0m unexpected EOF while parsing\n"
     ]
    }
   ],
   "source": [
    "my_list = [1, 2, "
   ]
  },
  {
   "cell_type": "markdown",
   "metadata": {},
   "source": [
    "# Part II: String Operations\n",
    "Now that we know what strings are and how to create them, we are going to learn about more fun ways to play with them.\n",
    "\n"
   ]
  },
  {
   "cell_type": "markdown",
   "metadata": {},
   "source": [
    "## Basic String Operations\n",
    "### Concatenation: Joining Strings Together\n",
    "\n",
    "The plus sign ```+``` is an **operator** which tells Python to join strings together. An operator is simply a symbol which tells us that a certain operation should be performed. For example, in \"2/3\", the slash operator tells us we should divide 2 by 3.\n",
    "\n",
    "You may be familiar with operators from other fields--like math--such as $\\int$ which indicates integration and $\\sum$ which indicates summation.\n",
    "\n",
    "#### Example"
   ]
  },
  {
   "cell_type": "code",
   "execution_count": 14,
   "metadata": {
    "collapsed": false
   },
   "outputs": [
    {
     "data": {
      "text/plain": [
       "'Colorless green ideas sleep furiously.'"
      ]
     },
     "execution_count": 14,
     "metadata": {},
     "output_type": "execute_result"
    }
   ],
   "source": [
    "x = \"Colorless green ideas\"\n",
    "y = \"sleep furiously.\"\n",
    "z = x + \" \" + y\n",
    "z"
   ]
  },
  {
   "cell_type": "markdown",
   "metadata": {},
   "source": [
    "### Concatenation involving numbers\n",
    "\n",
    "Concatenation is an operation between strings. If you want to concatenate a string and a number, you have to convert that number to a string. Suppose we create the following variable in Python."
   ]
  },
  {
   "cell_type": "code",
   "execution_count": 15,
   "metadata": {
    "collapsed": true
   },
   "outputs": [],
   "source": [
    "money = 10"
   ]
  },
  {
   "cell_type": "markdown",
   "metadata": {},
   "source": [
    "Now, how do we output the string \"I have 10 dollars\" using our money variable?"
   ]
  },
  {
   "cell_type": "markdown",
   "metadata": {},
   "source": [
    "#### Incorrect"
   ]
  },
  {
   "cell_type": "code",
   "execution_count": 16,
   "metadata": {
    "collapsed": false
   },
   "outputs": [
    {
     "ename": "TypeError",
     "evalue": "must be str, not int",
     "output_type": "error",
     "traceback": [
      "\u001b[0;31m---------------------------------------------------------------------------\u001b[0m",
      "\u001b[0;31mTypeError\u001b[0m                                 Traceback (most recent call last)",
      "\u001b[0;32m<ipython-input-16-2858ac391a30>\u001b[0m in \u001b[0;36m<module>\u001b[0;34m()\u001b[0m\n\u001b[0;32m----> 1\u001b[0;31m \u001b[1;34m\"I have \"\u001b[0m \u001b[1;33m+\u001b[0m \u001b[0mmoney\u001b[0m \u001b[1;33m+\u001b[0m \u001b[1;34m\" dollars\"\u001b[0m\u001b[1;33m\u001b[0m\u001b[0m\n\u001b[0m",
      "\u001b[0;31mTypeError\u001b[0m: must be str, not int"
     ]
    }
   ],
   "source": [
    "\"I have \" + money + \" dollars\""
   ]
  },
  {
   "cell_type": "markdown",
   "metadata": {},
   "source": [
    "#### Correct\n",
    "Here, we use the ```str()``` function to convert numerical data types to strings."
   ]
  },
  {
   "cell_type": "code",
   "execution_count": 17,
   "metadata": {
    "collapsed": false
   },
   "outputs": [
    {
     "data": {
      "text/plain": [
       "'I have 10 dollars'"
      ]
     },
     "execution_count": 17,
     "metadata": {},
     "output_type": "execute_result"
    }
   ],
   "source": [
    "\"I have \" + str(money) + \" dollars\""
   ]
  },
  {
   "cell_type": "markdown",
   "metadata": {},
   "source": [
    "### Repetition\n",
    "The asterisk symbol ```*``` when applied to strings causes the string to be repeated. (When applied to numbers, it indicates multiplication)."
   ]
  },
  {
   "cell_type": "code",
   "execution_count": 18,
   "metadata": {
    "collapsed": false
   },
   "outputs": [
    {
     "data": {
      "text/plain": [
       "'Repeat after me.Repeat after me.'"
      ]
     },
     "execution_count": 18,
     "metadata": {},
     "output_type": "execute_result"
    }
   ],
   "source": [
    "x = \"Repeat after me.\"\n",
    "x*2"
   ]
  },
  {
   "cell_type": "code",
   "execution_count": 19,
   "metadata": {
    "collapsed": false
   },
   "outputs": [
    {
     "data": {
      "text/plain": [
       "'EchoEchoEchoEchoEchoEchoEchoEchoEchoEcho'"
      ]
     },
     "execution_count": 19,
     "metadata": {},
     "output_type": "execute_result"
    }
   ],
   "source": [
    "y = \"Echo\"\n",
    "y*10"
   ]
  },
  {
   "cell_type": "markdown",
   "metadata": {},
   "source": [
    "### Practice Problem: The Plus Operator\n",
    "Without assigning any new variables, write a ```print()``` statement which will create a message saying The total cost is $18 by adding up the costs of shampoo, milk, eggs, and bacon.\n",
    "\n",
    "**Note:** The answer is not print(\"The total cost is $18\")"
   ]
  },
  {
   "cell_type": "code",
   "execution_count": 20,
   "metadata": {
    "collapsed": true
   },
   "outputs": [],
   "source": [
    "shampoo = 5\n",
    "milk = 3\n",
    "eggs = 5\n",
    "bacon = 5"
   ]
  },
  {
   "cell_type": "markdown",
   "metadata": {},
   "source": [
    "#### Solution"
   ]
  },
  {
   "cell_type": "code",
   "execution_count": 21,
   "metadata": {
    "collapsed": false
   },
   "outputs": [
    {
     "name": "stdout",
     "output_type": "stream",
     "text": [
      "The total cost is $18\n"
     ]
    }
   ],
   "source": [
    "print(\"The total cost is $\" + str(shampoo + milk + eggs + bacon))"
   ]
  },
  {
   "cell_type": "markdown",
   "metadata": {},
   "source": [
    "##### Explanation\n",
    "\n",
    "When we place ```shampoo + milk + eggs + bacon``` inside of the `str()` function, they are still numbers which have yet to be converted to strings. Thus, the + sign tells Python to perform addition. It is the final result of that addition (18) which gets converted to a string."
   ]
  },
  {
   "cell_type": "markdown",
   "metadata": {},
   "source": [
    "## String Methods\n",
    "\n",
    "A **method** is a function which can only be used with a certain type of object. Thus, \"string methods\" are functions which are applied specifically to strings, or roughly \"things we can do to strings.\"\n",
    "\n",
    "### Check if string contains only numbers"
   ]
  },
  {
   "cell_type": "code",
   "execution_count": 22,
   "metadata": {
    "collapsed": false
   },
   "outputs": [
    {
     "data": {
      "text/plain": [
       "False"
      ]
     },
     "execution_count": 22,
     "metadata": {},
     "output_type": "execute_result"
    }
   ],
   "source": [
    "'5ab'.isnumeric()"
   ]
  },
  {
   "cell_type": "code",
   "execution_count": 23,
   "metadata": {
    "collapsed": false
   },
   "outputs": [
    {
     "data": {
      "text/plain": [
       "True"
      ]
     },
     "execution_count": 23,
     "metadata": {},
     "output_type": "execute_result"
    }
   ],
   "source": [
    "'1776'.isnumeric()"
   ]
  },
  {
   "cell_type": "markdown",
   "metadata": {},
   "source": [
    "### Get all lowercase or all uppercase version of a string"
   ]
  },
  {
   "cell_type": "code",
   "execution_count": 24,
   "metadata": {
    "collapsed": false
   },
   "outputs": [
    {
     "data": {
      "text/plain": [
       "'lowercase me'"
      ]
     },
     "execution_count": 24,
     "metadata": {},
     "output_type": "execute_result"
    }
   ],
   "source": [
    "x = \"LOWERCASE ME\"\n",
    "x.lower()"
   ]
  },
  {
   "cell_type": "code",
   "execution_count": 25,
   "metadata": {
    "collapsed": false
   },
   "outputs": [
    {
     "data": {
      "text/plain": [
       "'CAPITALIZE ME!'"
      ]
     },
     "execution_count": 25,
     "metadata": {},
     "output_type": "execute_result"
    }
   ],
   "source": [
    "x = \"capitalize me!\"\n",
    "x.upper()"
   ]
  },
  {
   "cell_type": "markdown",
   "metadata": {},
   "source": [
    "## String Formatting via `str.format()`\n",
    "\n",
    "Just like string concatenation, string formatting is a way of joining different strings together. But why does string formatting exist when we already have concatenation? While you are free to use any method you like, many argue that string formatting has cleaner syntax and is easier to use when it comes to joining more complicated strings.\n",
    "\n",
    "Example Syntax:\n",
    "`\"some string {0}\".format(\"replacement text for 0\")`\n",
    "\n",
    "### Examples\n",
    "This method is best explained with examples. "
   ]
  },
  {
   "cell_type": "code",
   "execution_count": 26,
   "metadata": {
    "collapsed": false
   },
   "outputs": [
    {
     "data": {
      "text/plain": [
       "'My car is new'"
      ]
     },
     "execution_count": 26,
     "metadata": {},
     "output_type": "execute_result"
    }
   ],
   "source": [
    "'My {0} is {1}'.format('car','new')"
   ]
  },
  {
   "cell_type": "code",
   "execution_count": 27,
   "metadata": {
    "collapsed": false
   },
   "outputs": [
    {
     "data": {
      "text/plain": [
       "'My dog is a Border Collie'"
      ]
     },
     "execution_count": 27,
     "metadata": {},
     "output_type": "execute_result"
    }
   ],
   "source": [
    "'My {0} is {1}'.format('dog','a Border Collie')"
   ]
  },
  {
   "cell_type": "code",
   "execution_count": 28,
   "metadata": {
    "collapsed": false
   },
   "outputs": [
    {
     "data": {
      "text/plain": [
       "'My name is Slim Shady'"
      ]
     },
     "execution_count": 28,
     "metadata": {},
     "output_type": "execute_result"
    }
   ],
   "source": [
    "'My {0} is {1}'.format('name','Slim Shady')"
   ]
  },
  {
   "cell_type": "markdown",
   "metadata": {},
   "source": [
    "To use str.format(), you need a string with:\n",
    "* Numerical indices surrounded by brackets, e.g. {0}, {1}, ... {100}\n",
    "* Where the indices correspond to the order of arguments passed to the `.format()` function\n",
    " * In the last example, the index 1 corresponds to 'Slim Shady'.\n",
    "\n",
    "The function then replaces whatever is in those brackets with the corresponding substitution text. "
   ]
  },
  {
   "cell_type": "markdown",
   "metadata": {},
   "source": [
    "### Usage in `print()`\n",
    "The `.format()` method can make `print()` calls less clunky and nasty to look at.\n",
    "\n",
    "#### Method 1: +\n",
    "With regular string concatenation, an error message will result if you forget to convert numbers to strings."
   ]
  },
  {
   "cell_type": "code",
   "execution_count": 29,
   "metadata": {
    "collapsed": true
   },
   "outputs": [],
   "source": [
    "houses = 100"
   ]
  },
  {
   "cell_type": "code",
   "execution_count": 31,
   "metadata": {
    "collapsed": false,
    "scrolled": true
   },
   "outputs": [
    {
     "ename": "SyntaxError",
     "evalue": "invalid syntax (<ipython-input-31-fe8d4cc084d5>, line 2)",
     "output_type": "error",
     "traceback": [
      "\u001b[0;36m  File \u001b[0;32m\"<ipython-input-31-fe8d4cc084d5>\"\u001b[0;36m, line \u001b[0;32m2\u001b[0m\n\u001b[0;31m    Traceback (most recent call last):\u001b[0m\n\u001b[0m                         ^\u001b[0m\n\u001b[0;31mSyntaxError\u001b[0m\u001b[0;31m:\u001b[0m invalid syntax\n"
     ]
    }
   ],
   "source": [
    "print(\"There are \" + houses + \" houses in this square mile.\")\n",
    "Traceback (most recent call last):"
   ]
  },
  {
   "cell_type": "markdown",
   "metadata": {},
   "source": [
    "But adding the ```str()```s in makes the code look clunky--imagine if you had code where you had to convert multiple numbers to strings."
   ]
  },
  {
   "cell_type": "code",
   "execution_count": 32,
   "metadata": {
    "collapsed": false
   },
   "outputs": [
    {
     "name": "stdout",
     "output_type": "stream",
     "text": [
      "There are 100 houses in this square mile.\n"
     ]
    }
   ],
   "source": [
    "print(\"There are \" + str(houses) + \" houses in this square mile.\")"
   ]
  },
  {
   "cell_type": "markdown",
   "metadata": {},
   "source": [
    "#### Method 2: `.format()`\n",
    "\n",
    "On the other hand, `.format()` automatically converts numbers to strings."
   ]
  },
  {
   "cell_type": "code",
   "execution_count": 33,
   "metadata": {
    "collapsed": false
   },
   "outputs": [
    {
     "name": "stdout",
     "output_type": "stream",
     "text": [
      "There are 100 houses in this square mile.\n"
     ]
    }
   ],
   "source": [
    "print(\"There are {0} houses in this square mile.\".format(houses))"
   ]
  }
 ],
 "metadata": {
  "kernelspec": {
   "display_name": "Python 3",
   "language": "python",
   "name": "python3"
  },
  "language_info": {
   "codemirror_mode": {
    "name": "ipython",
    "version": 3
   },
   "file_extension": ".py",
   "mimetype": "text/x-python",
   "name": "python",
   "nbconvert_exporter": "python",
   "pygments_lexer": "ipython3",
   "version": "3.6.0"
  }
 },
 "nbformat": 4,
 "nbformat_minor": 2
}
