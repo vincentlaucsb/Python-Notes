{
 "cells": [
  {
   "cell_type": "markdown",
   "metadata": {},
   "source": [
    "## What are functions?\n",
    "\n",
    "You may be familiar with an analogy from algebra class that a math function is like a \"machine\" that takes in a number, performs some operations on it, and spits the result back out. Likewise, functions in Python can be thought of in the same way, except that they can also:\n",
    "* Take in many types of input, not just numbers\n",
    "* Do much more interesting things than just add and multiply numbers\n",
    "\n",
    "Furthermore, not all Python functions necessarily have an output. They may modify the input in some way, but they may not actually return anything. This is a concept we'll elaborate more on later.\n",
    "\n",
    "### Why use functions?\n",
    "\n",
    "Many times when programming, we end up performing a task repetitively. Rather than continually copy and paste lines of Python code, we can simply define a function once and then use it over and over. Functions are very useful when:\n",
    "* A complicated or tedious set of instructions is repeated multiple times, e.g.\n",
    " * A mathematical equation that takes various inputs\n",
    " * We want to format text a certain way, e.g. a function that removes unnecessary whitespace\n",
    " \n",
    "Mastering functions is integral to DRY (don't repeat yourself) programming and is the enemy of the WET (we enjoy  typing) style. By defining a function to implement a set of procedures, you only need to get it correct once. If your function was not implmented correctly, then you only have several lines of code to fix. On the other hand, if you copy and paste several lines of Python code, not only does the added clutter make it more likely that you will create a bug, it also makes debugging much more difficult.\n",
    "\n",
    "## Declaring Functions\n",
    "\n",
    "All Python functions have the same main parts. They all:\n",
    "* Start with the keyword `def` (as in function definition), which tells Python you're about to declare a function\n",
    "* Parameters enclosed in parenthesis\n",
    " * If you function doesn't take in parameters, you'll still need to use `()` or else you'll get a `SyntaxError`\n",
    "* Have lines of code following the initial declaration that are indented\n",
    " * These indented lines are keywords or other functions which dictate what this function does\n",
    "\n",
    "### Example: A simple function"
   ]
  },
  {
   "cell_type": "code",
   "execution_count": 1,
   "metadata": {
    "collapsed": true
   },
   "outputs": [],
   "source": [
    "def hi():\n",
    "    print(\"Hello world!\")"
   ]
  },
  {
   "cell_type": "code",
   "execution_count": 2,
   "metadata": {
    "collapsed": false
   },
   "outputs": [
    {
     "name": "stdout",
     "output_type": "stream",
     "text": [
      "Hello world!\n"
     ]
    }
   ],
   "source": [
    "hi()"
   ]
  },
  {
   "cell_type": "markdown",
   "metadata": {},
   "source": [
    "### Example 2: A function that takes in an input\n",
    "The inputs passed to a function are called arguments, and can be referred to much in the same way that you would use variables."
   ]
  },
  {
   "cell_type": "code",
   "execution_count": 6,
   "metadata": {
    "collapsed": true
   },
   "outputs": [],
   "source": [
    "def hi(name):\n",
    "    print(\"Hello world!\", \"My name is {0}!\".format(name), sep=\"\\n\")"
   ]
  },
  {
   "cell_type": "code",
   "execution_count": 7,
   "metadata": {
    "collapsed": false
   },
   "outputs": [
    {
     "name": "stdout",
     "output_type": "stream",
     "text": [
      "Hello world!\n",
      "My name is Simple Jack!\n"
     ]
    }
   ],
   "source": [
    "hi(\"Simple Jack\")"
   ]
  },
  {
   "cell_type": "markdown",
   "metadata": {},
   "source": [
    "Use parentheses to call a function\n",
    "\n",
    "When we call a function, we are invoking the function to do what we want it (programmed it) to do. Calling a function is always of the form: my_function_name()\n",
    "\n",
    "If you don't use parentheses, Python will return an object reference to that function, like:\n",
    "\n",
    "`>>> hi\n",
    "<function hi at 0x000000000434A730>`\n",
    "\n",
    "### Example 3: A function that takes in multiple inputs"
   ]
  },
  {
   "cell_type": "code",
   "execution_count": 9,
   "metadata": {
    "collapsed": true
   },
   "outputs": [],
   "source": [
    "def less_than(x, y):\n",
    "    if (x < y):\n",
    "        print(x,\"is less than\",y)\n",
    "    elif (x == y):\n",
    "        print(x,\"is equal to\",y)\n",
    "    else:\n",
    "        print(x,\"is greater than\",y)"
   ]
  },
  {
   "cell_type": "markdown",
   "metadata": {},
   "source": [
    "For more explanation about how this example function works, see Boolean Statements and Control Flow."
   ]
  },
  {
   "cell_type": "code",
   "execution_count": 13,
   "metadata": {
    "collapsed": false
   },
   "outputs": [
    {
     "name": "stdout",
     "output_type": "stream",
     "text": [
      "5 is less than 100\n"
     ]
    }
   ],
   "source": [
    "less_than(5,100)"
   ]
  },
  {
   "cell_type": "markdown",
   "metadata": {},
   "source": [
    "### Example 4: A function with optional arguments\n",
    "\n",
    "In the above example, all of the arguments are required, i.e. Python will return an error message if you specify less than the required number of arguments."
   ]
  },
  {
   "cell_type": "code",
   "execution_count": 14,
   "metadata": {
    "collapsed": false
   },
   "outputs": [
    {
     "ename": "TypeError",
     "evalue": "less_than() missing 1 required positional argument: 'y'",
     "output_type": "error",
     "traceback": [
      "\u001b[0;31m---------------------------------------------------------------------------\u001b[0m",
      "\u001b[0;31mTypeError\u001b[0m                                 Traceback (most recent call last)",
      "\u001b[0;32m<ipython-input-14-e0209d5b5767>\u001b[0m in \u001b[0;36m<module>\u001b[0;34m()\u001b[0m\n\u001b[0;32m----> 1\u001b[0;31m \u001b[0mless_than\u001b[0m\u001b[1;33m(\u001b[0m\u001b[1;36m5\u001b[0m\u001b[1;33m)\u001b[0m\u001b[1;33m\u001b[0m\u001b[0m\n\u001b[0m",
      "\u001b[0;31mTypeError\u001b[0m: less_than() missing 1 required positional argument: 'y'"
     ]
    }
   ],
   "source": [
    "less_than(5)"
   ]
  },
  {
   "cell_type": "markdown",
   "metadata": {},
   "source": [
    "If you want to declare a function with an optional argument, you can do so by specifying a default value which Python will use if a value is not provided when the function is called, e.g.:"
   ]
  },
  {
   "cell_type": "code",
   "execution_count": 72,
   "metadata": {
    "collapsed": true
   },
   "outputs": [],
   "source": [
    "def berate(text=\"the truth!\"):\n",
    "    print(\"You can't handle\",text)"
   ]
  },
  {
   "cell_type": "code",
   "execution_count": 73,
   "metadata": {
    "collapsed": false
   },
   "outputs": [
    {
     "name": "stdout",
     "output_type": "stream",
     "text": [
      "You can't handle the truth!\n"
     ]
    }
   ],
   "source": [
    "berate()"
   ]
  },
  {
   "cell_type": "code",
   "execution_count": 74,
   "metadata": {
    "collapsed": false
   },
   "outputs": [
    {
     "name": "stdout",
     "output_type": "stream",
     "text": [
      "You can't handle the facts!\n"
     ]
    }
   ],
   "source": [
    "berate(text=\"the facts!\")"
   ]
  },
  {
   "cell_type": "markdown",
   "metadata": {},
   "source": [
    "### Example 5: Combining required and optional arguments"
   ]
  },
  {
   "cell_type": "code",
   "execution_count": 63,
   "metadata": {
    "collapsed": false
   },
   "outputs": [],
   "source": [
    "# Remove characters from string specified in list specified by remove\n",
    "# Default: Do nothing\n",
    "def remove_letters(string, remove=[]):\n",
    "    new_string = \"\"\n",
    "    \n",
    "    for char in string:\n",
    "        if char not in remove:\n",
    "            new_string += char\n",
    "            \n",
    "    return new_string"
   ]
  },
  {
   "cell_type": "code",
   "execution_count": 61,
   "metadata": {
    "collapsed": false
   },
   "outputs": [
    {
     "data": {
      "text/plain": [
       "'Barack Obama'"
      ]
     },
     "execution_count": 61,
     "metadata": {},
     "output_type": "execute_result"
    }
   ],
   "source": [
    "remove_letters('Barack Obama')"
   ]
  },
  {
   "cell_type": "code",
   "execution_count": 62,
   "metadata": {
    "collapsed": false
   },
   "outputs": [
    {
     "data": {
      "text/plain": [
       "'Brck Obm'"
      ]
     },
     "execution_count": 62,
     "metadata": {},
     "output_type": "execute_result"
    }
   ],
   "source": [
    "remove_letters('Barack Obama', remove=['a'])"
   ]
  },
  {
   "cell_type": "code",
   "execution_count": 64,
   "metadata": {
    "collapsed": false
   },
   "outputs": [
    {
     "data": {
      "text/plain": [
       "'Mcrsft Wndws'"
      ]
     },
     "execution_count": 64,
     "metadata": {},
     "output_type": "execute_result"
    }
   ],
   "source": [
    "remove_letters('Microsoft Windows', remove=['i', 'o',])"
   ]
  },
  {
   "cell_type": "markdown",
   "metadata": {},
   "source": [
    "### Optional arguments should always follow required arguments\n",
    "\n",
    "Python just doesn't like it the other way around:"
   ]
  },
  {
   "cell_type": "code",
   "execution_count": 65,
   "metadata": {
    "collapsed": false
   },
   "outputs": [
    {
     "ename": "SyntaxError",
     "evalue": "non-default argument follows default argument (<ipython-input-65-9c0807748442>, line 2)",
     "output_type": "error",
     "traceback": [
      "\u001b[0;36m  File \u001b[0;32m\"<ipython-input-65-9c0807748442>\"\u001b[0;36m, line \u001b[0;32m2\u001b[0m\n\u001b[0;31m    def remove_letters(remove=[], string):\u001b[0m\n\u001b[0m                      ^\u001b[0m\n\u001b[0;31mSyntaxError\u001b[0m\u001b[0;31m:\u001b[0m non-default argument follows default argument\n"
     ]
    }
   ],
   "source": [
    "# Doesn't work\n",
    "def remove_letters(remove=[], string):\n",
    "    new_string = \"\"\n",
    "    \n",
    "    for char in string:\n",
    "        if char not in remove:\n",
    "            new_string += char\n",
    "            \n",
    "    return new_string"
   ]
  },
  {
   "cell_type": "markdown",
   "metadata": {},
   "source": [
    "### Note:  The Pythonic (correct) way to implement `remove_letters()`\n",
    "This is a bit of a tangent, but the most efficient way to implement `remove_letters()` is actually with something called a **list comprehrehension**. The previous implementation was included mainly because it was easier for beginners to understand."
   ]
  },
  {
   "cell_type": "code",
   "execution_count": 69,
   "metadata": {
    "collapsed": true
   },
   "outputs": [],
   "source": [
    "def remove_letters(string, remove=[]):\n",
    "    return ''.join([char for char in string if char not in remove])"
   ]
  },
  {
   "cell_type": "code",
   "execution_count": 71,
   "metadata": {
    "collapsed": false
   },
   "outputs": [
    {
     "data": {
      "text/plain": [
       "'Ys, it is possibl to do  lot with just on lin in Python.'"
      ]
     },
     "execution_count": 71,
     "metadata": {},
     "output_type": "execute_result"
    }
   ],
   "source": [
    "remove_letters('Yes, it is possible to do a lot with just one line in Python.', remove=['a', 'e'])"
   ]
  },
  {
   "cell_type": "markdown",
   "metadata": {},
   "source": [
    "## Functions with Arbitrary Inputs\n",
    "**Syntax:** `def function(*args, **kwargs):`\n",
    "\n",
    "\n",
    "Functions of this form can take in any number of unnamed arguments, and any number of keyword arguments.\n",
    "\n",
    "### Example 1: Arbitrary Number of Arguments\n"
   ]
  },
  {
   "cell_type": "code",
   "execution_count": 55,
   "metadata": {
    "collapsed": true
   },
   "outputs": [],
   "source": [
    "# Return the longest word\n",
    "def longest_word(*args):\n",
    "    longest_word = args[0]\n",
    "    \n",
    "    # The arguments provided become a list we can iterate over\n",
    "    for word in args:\n",
    "        if len(word) > len(longest_word):\n",
    "            longest_word = word\n",
    "            \n",
    "    return longest_word    "
   ]
  },
  {
   "cell_type": "code",
   "execution_count": 19,
   "metadata": {
    "collapsed": false
   },
   "outputs": [
    {
     "data": {
      "text/plain": [
       "'floccinaucinihilipilification'"
      ]
     },
     "execution_count": 19,
     "metadata": {},
     "output_type": "execute_result"
    }
   ],
   "source": [
    "longest_word('apple', 'orange', 'antidisestablishmentarianism', 'floccinaucinihilipilification')"
   ]
  },
  {
   "cell_type": "markdown",
   "metadata": {},
   "source": [
    "### Example 1a\n",
    "This is example involves more complicated Python than a beginner is expected to know, and is included just as a demonstration of Python's abilities and syntax. The weird things with brackets, e.g. `[Counter(word)[vowel] for vowel in vowels]` are called **list comprehensions**."
   ]
  },
  {
   "cell_type": "code",
   "execution_count": 2,
   "metadata": {
    "collapsed": false
   },
   "outputs": [],
   "source": [
    "from collections import Counter\n",
    "\n",
    "# Helper function: Return number of vowels in a word\n",
    "def vowel_count(word):\n",
    "    vowels = ['a', 'e', 'i', 'o', 'u']\n",
    "    return sum([Counter(word)[vowel] for vowel in vowels])\n",
    "\n",
    "# Get the word with the most vowels\n",
    "def most_vowels(*words):    \n",
    "    return words[[vowel_count(word) for word in words].index(max([vowel_count(word) for word in words]))]"
   ]
  },
  {
   "cell_type": "code",
   "execution_count": 3,
   "metadata": {
    "collapsed": false
   },
   "outputs": [
    {
     "data": {
      "text/plain": [
       "4"
      ]
     },
     "execution_count": 3,
     "metadata": {},
     "output_type": "execute_result"
    }
   ],
   "source": [
    "vowel_count('Kendrick Lamar')"
   ]
  },
  {
   "cell_type": "code",
   "execution_count": 45,
   "metadata": {
    "collapsed": false
   },
   "outputs": [
    {
     "data": {
      "text/plain": [
       "'Facebook'"
      ]
     },
     "execution_count": 45,
     "metadata": {},
     "output_type": "execute_result"
    }
   ],
   "source": [
    "most_vowels('Facebook', 'Twitter', 'Instagram', 'Snapchat', 'MySpace')"
   ]
  },
  {
   "cell_type": "code",
   "execution_count": 46,
   "metadata": {
    "collapsed": false
   },
   "outputs": [
    {
     "data": {
      "text/plain": [
       "'United States of America'"
      ]
     },
     "execution_count": 46,
     "metadata": {},
     "output_type": "execute_result"
    }
   ],
   "source": [
    "most_vowels('Russia', 'China', 'India', 'United States of America', 'Canada')"
   ]
  },
  {
   "cell_type": "markdown",
   "metadata": {},
   "source": [
    "### Example 2: Arbitrary Number of Keyword Arguments"
   ]
  },
  {
   "cell_type": "code",
   "execution_count": 54,
   "metadata": {
    "collapsed": false
   },
   "outputs": [
    {
     "name": "stdout",
     "output_type": "stream",
     "text": [
      "Keyword: country, Value: United States of America\n",
      "Keyword: capital, Value: Washington, D.C.\n",
      "Keyword: population, Value: 300000000\n",
      "Keyword: currency, Value: United States Dollar\n"
     ]
    }
   ],
   "source": [
    "def print_list(**kwargs):\n",
    "    for keyword in kwargs:\n",
    "        print(\"Keyword: \", keyword, \", Value: \", kwargs[keyword], sep=\"\")\n",
    "        \n",
    "print_list(country='United States of America',\n",
    "           capital='Washington, D.C.',\n",
    "           population='300000000' ,\n",
    "           currency='United States Dollar'\n",
    "          )"
   ]
  },
  {
   "cell_type": "markdown",
   "metadata": {},
   "source": [
    "## Example 3: Arbitrary Number of Named and Unnamed Arguments"
   ]
  },
  {
   "cell_type": "code",
   "execution_count": 57,
   "metadata": {
    "collapsed": false
   },
   "outputs": [
    {
     "name": "stdout",
     "output_type": "stream",
     "text": [
      "Arguments: (1, 2, 3, 4)\n",
      "Keyword Arguments {'alpha': 'qwerty', 'beta': 'asdf'}\n"
     ]
    }
   ],
   "source": [
    "def now_im_getting_lazy(*leroy, **jenkins):\n",
    "    print(\"Arguments:\", leroy)\n",
    "    print(\"Keyword Arguments\", jenkins)\n",
    "    \n",
    "now_im_getting_lazy(1, 2, 3, 4, alpha=\"qwerty\", beta=\"asdf\")"
   ]
  },
  {
   "cell_type": "markdown",
   "metadata": {},
   "source": [
    "## Some Closing Notes\n",
    "\n",
    "Python functions are very flexible and can be created to match a myriad of needs. As a result, functions are the backbone of everything useful we want to do in Python.\n",
    "\n",
    "### Some Advice on Naming Things\n",
    "\n",
    "Obviously, you can name your functions anything you want. But calling a function something like `xyz123()` is a disservice to:\n",
    "* Other people who might have to read your code\n",
    "* Your future self, say a few days later, who forgot what you were trying to code\n",
    "\n",
    "As you may have noticed, I did not bother to describe what my functions did as it was obvious from the examples and their names what they did. Now this might not always be the case, especially if the project that you are working on exceeds hundreds of even thousands of lines of code. However, you should generally name your functions and variables after their intended use. "
   ]
  }
 ],
 "metadata": {
  "kernelspec": {
   "display_name": "Python 3",
   "language": "python",
   "name": "python3"
  },
  "language_info": {
   "codemirror_mode": {
    "name": "ipython",
    "version": 3
   },
   "file_extension": ".py",
   "mimetype": "text/x-python",
   "name": "python",
   "nbconvert_exporter": "python",
   "pygments_lexer": "ipython3",
   "version": "3.6.0"
  }
 },
 "nbformat": 4,
 "nbformat_minor": 2
}
