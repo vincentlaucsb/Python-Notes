{
 "cells": [
  {
   "cell_type": "markdown",
   "metadata": {},
   "source": [
    "# An Introduction to Lists, Tuples, and Dictionaries\n",
    "\n",
    "While lists, tuples, and dictionaries are Python's most basic composite data types, mastery of them will take a programmer far. Composite data types are merely data types which are designed to contain other data types. Lists, tuples, and dictionaries are like the books, binders, and filing cabinents of Python.\n",
    "\n",
    "## Lists\n",
    "\n",
    "Python's lists are like... lists. They can store any number of items of varying type. Lists can be appended to, i.e. have items added to, at any time. Furthermore, its contents are mutable. That is, they can be edited.\n",
    "\n",
    "### Declaring a List\n",
    "To declare a list simply assign a comma separated list, enclosed in square brackets, to a variable. Lists can be composed of any combination of numbers, letters, and other Python objects."
   ]
  },
  {
   "cell_type": "code",
   "execution_count": 1,
   "metadata": {
    "collapsed": false
   },
   "outputs": [
    {
     "data": {
      "text/plain": [
       "[1, 2, 3]"
      ]
     },
     "execution_count": 1,
     "metadata": {},
     "output_type": "execute_result"
    }
   ],
   "source": [
    "x = [1, 2, 3]\n",
    "x"
   ]
  },
  {
   "cell_type": "code",
   "execution_count": 2,
   "metadata": {
    "collapsed": false
   },
   "outputs": [
    {
     "data": {
      "text/plain": [
       "['a', 'b', 'c']"
      ]
     },
     "execution_count": 2,
     "metadata": {},
     "output_type": "execute_result"
    }
   ],
   "source": [
    "x = [\"a\" ,\"b\" , \"c\"]\n",
    "x"
   ]
  },
  {
   "cell_type": "code",
   "execution_count": 3,
   "metadata": {
    "collapsed": false
   },
   "outputs": [
    {
     "data": {
      "text/plain": [
       "[1, 2, 3, 'a', 'b', 'c']"
      ]
     },
     "execution_count": 3,
     "metadata": {},
     "output_type": "execute_result"
    }
   ],
   "source": [
    "x = [1, 2, 3, \"a\", \"b\", \"c\"]\n",
    "x"
   ]
  },
  {
   "cell_type": "markdown",
   "metadata": {},
   "source": [
    "### Appending to a List\n",
    "To add an item to a list, simply use the ```append()``` method."
   ]
  },
  {
   "cell_type": "code",
   "execution_count": 4,
   "metadata": {
    "collapsed": false
   },
   "outputs": [
    {
     "data": {
      "text/plain": [
       "[1, 2, 3, 4]"
      ]
     },
     "execution_count": 4,
     "metadata": {},
     "output_type": "execute_result"
    }
   ],
   "source": [
    "x = [1, 2, 3]\n",
    "x.append(4)\n",
    "x"
   ]
  },
  {
   "cell_type": "markdown",
   "metadata": {},
   "source": [
    "### Indexing\n",
    "\n",
    "Every individual item inside a list has an **index**, which is basically a number which we can use to retrieve it. An item's index corresponds to its position in a list, starting from not 1, but 0. (The index 1 actually refers to the second item in a list.) This seemingly strange convention is not unique to Python, and can be found in many other programming languages (except R).\n",
    "\n",
    "Syntax: ```variable_name[index]```"
   ]
  },
  {
   "cell_type": "markdown",
   "metadata": {},
   "source": [
    "#### Example (continuining with the same ```x``` as above)"
   ]
  },
  {
   "cell_type": "code",
   "execution_count": 5,
   "metadata": {
    "collapsed": false
   },
   "outputs": [
    {
     "data": {
      "text/plain": [
       "1"
      ]
     },
     "execution_count": 5,
     "metadata": {},
     "output_type": "execute_result"
    }
   ],
   "source": [
    "x[0]"
   ]
  },
  {
   "cell_type": "code",
   "execution_count": 6,
   "metadata": {
    "collapsed": false
   },
   "outputs": [
    {
     "data": {
      "text/plain": [
       "4"
      ]
     },
     "execution_count": 6,
     "metadata": {},
     "output_type": "execute_result"
    }
   ],
   "source": [
    "x[3]"
   ]
  },
  {
   "cell_type": "markdown",
   "metadata": {},
   "source": [
    "#### Negative Indexing\n",
    "Negative indexing can be used to retrieve items starting from the *end* of a list. -1 refers to the last item in a list, -2 refers to the second to last item, and so on."
   ]
  },
  {
   "cell_type": "code",
   "execution_count": 7,
   "metadata": {
    "collapsed": false
   },
   "outputs": [
    {
     "data": {
      "text/plain": [
       "4"
      ]
     },
     "execution_count": 7,
     "metadata": {},
     "output_type": "execute_result"
    }
   ],
   "source": [
    "x[-1]"
   ]
  },
  {
   "cell_type": "code",
   "execution_count": 8,
   "metadata": {
    "collapsed": false
   },
   "outputs": [
    {
     "data": {
      "text/plain": [
       "3"
      ]
     },
     "execution_count": 8,
     "metadata": {},
     "output_type": "execute_result"
    }
   ],
   "source": [
    "x[-2]"
   ]
  },
  {
   "cell_type": "markdown",
   "metadata": {},
   "source": [
    "### Lists can contain any Python object\n",
    "It seems most of the time, lists are used to hold mundane objects like strings and numbers. However, they can hold any Python object, including functions!"
   ]
  },
  {
   "cell_type": "code",
   "execution_count": 9,
   "metadata": {
    "collapsed": false
   },
   "outputs": [],
   "source": [
    "def hello():\n",
    "    return \"Hello, how you are?\"\n",
    "\n",
    "def morning():\n",
    "    return \"Good morning.\"\n",
    "\n",
    "def sup():\n",
    "    return \"What's up?\"\n",
    "\n",
    "def suh():\n",
    "    return \"Suh dude.\"\n",
    "\n",
    "def weezy():\n",
    "    return \"Hello mothaf, hey hi how ya durrn'? It's Weezy F Baby.\""
   ]
  },
  {
   "cell_type": "markdown",
   "metadata": {},
   "source": [
    "Now that we have our functions ready, we will place them in our list."
   ]
  },
  {
   "cell_type": "code",
   "execution_count": 10,
   "metadata": {
    "collapsed": false
   },
   "outputs": [
    {
     "data": {
      "text/plain": [
       "[<function __main__.hello>,\n",
       " <function __main__.morning>,\n",
       " <function __main__.sup>,\n",
       " <function __main__.suh>,\n",
       " <function __main__.weezy>]"
      ]
     },
     "execution_count": 10,
     "metadata": {},
     "output_type": "execute_result"
    }
   ],
   "source": [
    "greetings = [hello, morning, sup, suh, weezy]\n",
    "greetings"
   ]
  },
  {
   "cell_type": "markdown",
   "metadata": {},
   "source": [
    "Below, the ```[3]``` indicates we want to access the fourth item of the list, and the ```()``` indicates we want to call a function."
   ]
  },
  {
   "cell_type": "code",
   "execution_count": 11,
   "metadata": {
    "collapsed": false
   },
   "outputs": [
    {
     "data": {
      "text/plain": [
       "'Suh dude.'"
      ]
     },
     "execution_count": 11,
     "metadata": {},
     "output_type": "execute_result"
    }
   ],
   "source": [
    "greetings[3]()"
   ]
  },
  {
   "cell_type": "markdown",
   "metadata": {},
   "source": [
    "## Tuples\n",
    "\n",
    "Tuples are ordered pairs of objects. They resemble lists in many ways, but are noticeably different in that:\n",
    "\n",
    "* They are immutable, i.e. their contents cannot be changed\n",
    "* They are fixed length, which means we can't append to them like lists\n",
    "\n",
    "There's a peculiar debate in the Python community over where lists are appropriate and where tuples are, but for now, just understand what they are and what their limitations are.\n",
    "\n",
    "### Declaring a Tuple\n",
    "\n",
    "To declare a tuple simply assign a comma separated list (normal English meaning), enclosed in parentheses or nothing at all, to a variable.\n",
    "\n",
    "#### Example 1: Assigning a tuple without parantheses"
   ]
  },
  {
   "cell_type": "code",
   "execution_count": 12,
   "metadata": {
    "collapsed": false
   },
   "outputs": [
    {
     "data": {
      "text/plain": [
       "(1, 2, 3)"
      ]
     },
     "execution_count": 12,
     "metadata": {},
     "output_type": "execute_result"
    }
   ],
   "source": [
    "x = 1,2,3\n",
    "x"
   ]
  },
  {
   "cell_type": "markdown",
   "metadata": {},
   "source": [
    "#### Example 2: Equivalent syntax to Example 1 with parantheses"
   ]
  },
  {
   "cell_type": "code",
   "execution_count": 13,
   "metadata": {
    "collapsed": false
   },
   "outputs": [
    {
     "data": {
      "text/plain": [
       "(1, 2, 3)"
      ]
     },
     "execution_count": 13,
     "metadata": {},
     "output_type": "execute_result"
    }
   ],
   "source": [
    "x = (1, 2, 3)\n",
    "x"
   ]
  },
  {
   "cell_type": "markdown",
   "metadata": {},
   "source": [
    "### Tuples vs. Lists\n",
    "As mentioned previously, tuples do not have an ```append()``` method or anything similar."
   ]
  },
  {
   "cell_type": "code",
   "execution_count": 14,
   "metadata": {
    "collapsed": false
   },
   "outputs": [
    {
     "ename": "AttributeError",
     "evalue": "'tuple' object has no attribute 'append'",
     "output_type": "error",
     "traceback": [
      "\u001b[0;31m---------------------------------------------------------------------------\u001b[0m",
      "\u001b[0;31mAttributeError\u001b[0m                            Traceback (most recent call last)",
      "\u001b[0;32m<ipython-input-14-f6757bb955a1>\u001b[0m in \u001b[0;36m<module>\u001b[0;34m()\u001b[0m\n\u001b[0;32m----> 1\u001b[0;31m \u001b[0mx\u001b[0m\u001b[1;33m.\u001b[0m\u001b[0mappend\u001b[0m\u001b[1;33m(\u001b[0m\u001b[1;36m1\u001b[0m\u001b[1;33m)\u001b[0m\u001b[1;33m\u001b[0m\u001b[0m\n\u001b[0m",
      "\u001b[0;31mAttributeError\u001b[0m: 'tuple' object has no attribute 'append'"
     ]
    }
   ],
   "source": [
    "x.append(1)"
   ]
  },
  {
   "cell_type": "markdown",
   "metadata": {},
   "source": [
    "Furthermore, we cannot change the contents once they are assigned either."
   ]
  },
  {
   "cell_type": "code",
   "execution_count": null,
   "metadata": {
    "collapsed": false
   },
   "outputs": [],
   "source": [
    "x[1] = 2"
   ]
  },
  {
   "cell_type": "markdown",
   "metadata": {},
   "source": [
    "### Indexing\n",
    "One thing that is the same between lists and tuples is indexing."
   ]
  },
  {
   "cell_type": "code",
   "execution_count": 23,
   "metadata": {
    "collapsed": false
   },
   "outputs": [
    {
     "data": {
      "text/plain": [
       "3"
      ]
     },
     "execution_count": 23,
     "metadata": {},
     "output_type": "execute_result"
    }
   ],
   "source": [
    "sb51_score = (3, 28)\n",
    "sb51_score[0]"
   ]
  },
  {
   "cell_type": "markdown",
   "metadata": {},
   "source": [
    "## Dictionaries\n",
    "\n",
    "Dictionaries in Python resemble dictionaries in real life in that they pair \"words\" with associated values or \"definitions\". The difference here is that the \"definitions\" can be much more versatile, i.e. they can be any Python object and not just sentences composed of words.\n",
    "\n",
    "For example, if we wanted a dictionary where we associated fruits with their colors, we could declare it like this:"
   ]
  },
  {
   "cell_type": "code",
   "execution_count": 15,
   "metadata": {
    "collapsed": true
   },
   "outputs": [],
   "source": [
    "fruits = {\n",
    "\t'apple': 'red',\n",
    "\t'orange': 'orange',\n",
    "\t'blueberry': 'blue',\n",
    "\t'strawberry': 'red'\n",
    "\t}"
   ]
  },
  {
   "cell_type": "markdown",
   "metadata": {},
   "source": [
    "In general, the syntax for declaring a dictionary is:\n",
    "\n",
    "```dictionary = {key: value, key: value, ... , key: value}```\n",
    "\n",
    "or\n",
    "\n",
    "```dictionary = {\n",
    "    key: value,\n",
    "    key: value,\n",
    "    ...,\n",
    "    key: value\n",
    "}```\n",
    "\n",
    "Putting every key-value pair on a separate line like I did in the first example is not necessary, but is considered generally good etiquette as it is easier to read."
   ]
  },
  {
   "cell_type": "markdown",
   "metadata": {},
   "source": [
    "### Inserting New Entries\n",
    "One can insert new entries into a dictionary using the syntax:\n",
    "\n",
    "```variable[key] = value```\n",
    "\n",
    "#### Example\n",
    "Using the same ```fruits``` dictionary as above:"
   ]
  },
  {
   "cell_type": "code",
   "execution_count": 18,
   "metadata": {
    "collapsed": false
   },
   "outputs": [],
   "source": [
    "fruits['banana'] = 'yellow'"
   ]
  },
  {
   "cell_type": "markdown",
   "metadata": {},
   "source": [
    "As a result, we get..."
   ]
  },
  {
   "cell_type": "code",
   "execution_count": 19,
   "metadata": {
    "collapsed": false
   },
   "outputs": [
    {
     "data": {
      "text/plain": [
       "{'apple': 'red',\n",
       " 'banana': 'yellow',\n",
       " 'blueberry': 'blue',\n",
       " 'orange': 'orange',\n",
       " 'strawberry': 'red'}"
      ]
     },
     "execution_count": 19,
     "metadata": {},
     "output_type": "execute_result"
    }
   ],
   "source": [
    "fruits"
   ]
  },
  {
   "cell_type": "markdown",
   "metadata": {},
   "source": [
    "### Updating Entries\n",
    "Updating existing entries works exactly like adding new ones.\n",
    "\n",
    "#### Example"
   ]
  },
  {
   "cell_type": "code",
   "execution_count": 24,
   "metadata": {
    "collapsed": false
   },
   "outputs": [
    {
     "data": {
      "text/plain": [
       "{'Falcons': 28, 'Patriots': 3}"
      ]
     },
     "execution_count": 24,
     "metadata": {},
     "output_type": "execute_result"
    }
   ],
   "source": [
    "sb51_score = {\n",
    "    \"Patriots\": 3,\n",
    "    \"Falcons\": 28\n",
    "}\n",
    "sb51_score"
   ]
  },
  {
   "cell_type": "code",
   "execution_count": 25,
   "metadata": {
    "collapsed": false
   },
   "outputs": [
    {
     "data": {
      "text/plain": [
       "{'Falcons': 28, 'Patriots': 34}"
      ]
     },
     "execution_count": 25,
     "metadata": {},
     "output_type": "execute_result"
    }
   ],
   "source": [
    "sb51_score[\"Patriots\"] = 34\n",
    "sb51_score"
   ]
  }
 ],
 "metadata": {
  "kernelspec": {
   "display_name": "Python 3",
   "language": "python",
   "name": "python3"
  },
  "language_info": {
   "codemirror_mode": {
    "name": "ipython",
    "version": 3
   },
   "file_extension": ".py",
   "mimetype": "text/x-python",
   "name": "python",
   "nbconvert_exporter": "python",
   "pygments_lexer": "ipython3",
   "version": "3.6.0"
  }
 },
 "nbformat": 4,
 "nbformat_minor": 2
}
